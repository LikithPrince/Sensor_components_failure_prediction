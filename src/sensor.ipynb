{
 "cells": [
  {
   "cell_type": "code",
   "execution_count": 1,
   "metadata": {},
   "outputs": [],
   "source": [
    "import numpy as np\n",
    "import pandas as pd\n",
    "import matplotlib.pyplot as plt\n",
    "import seaborn as sns"
   ]
  },
  {
   "cell_type": "code",
   "execution_count": 2,
   "metadata": {},
   "outputs": [
    {
     "data": {
      "text/html": [
       "<div>\n",
       "<style scoped>\n",
       "    .dataframe tbody tr th:only-of-type {\n",
       "        vertical-align: middle;\n",
       "    }\n",
       "\n",
       "    .dataframe tbody tr th {\n",
       "        vertical-align: top;\n",
       "    }\n",
       "\n",
       "    .dataframe thead th {\n",
       "        text-align: right;\n",
       "    }\n",
       "</style>\n",
       "<table border=\"1\" class=\"dataframe\">\n",
       "  <thead>\n",
       "    <tr style=\"text-align: right;\">\n",
       "      <th></th>\n",
       "      <th>aa_000</th>\n",
       "      <th>ab_000</th>\n",
       "      <th>ac_000</th>\n",
       "      <th>ad_000</th>\n",
       "      <th>ae_000</th>\n",
       "      <th>af_000</th>\n",
       "      <th>ag_000</th>\n",
       "      <th>ag_001</th>\n",
       "      <th>ag_002</th>\n",
       "      <th>ag_003</th>\n",
       "      <th>...</th>\n",
       "      <th>ee_002</th>\n",
       "      <th>ee_003</th>\n",
       "      <th>ee_004</th>\n",
       "      <th>ee_005</th>\n",
       "      <th>ee_006</th>\n",
       "      <th>ee_007</th>\n",
       "      <th>ee_008</th>\n",
       "      <th>ee_009</th>\n",
       "      <th>ef_000</th>\n",
       "      <th>eg_000</th>\n",
       "    </tr>\n",
       "  </thead>\n",
       "  <tbody>\n",
       "    <tr>\n",
       "      <th>0</th>\n",
       "      <td>1056758.0</td>\n",
       "      <td>0.0</td>\n",
       "      <td>42328.0</td>\n",
       "      <td>856.0</td>\n",
       "      <td>0.0</td>\n",
       "      <td>0.0</td>\n",
       "      <td>0.0</td>\n",
       "      <td>50394.0</td>\n",
       "      <td>184552.0</td>\n",
       "      <td>2116260.0</td>\n",
       "      <td>...</td>\n",
       "      <td>1450086.0</td>\n",
       "      <td>713608.0</td>\n",
       "      <td>1750894.0</td>\n",
       "      <td>4054554.0</td>\n",
       "      <td>4096660.0</td>\n",
       "      <td>2295880.0</td>\n",
       "      <td>220478.0</td>\n",
       "      <td>482.0</td>\n",
       "      <td>0.0</td>\n",
       "      <td>0.0</td>\n",
       "    </tr>\n",
       "    <tr>\n",
       "      <th>1</th>\n",
       "      <td>1665858.0</td>\n",
       "      <td>NaN</td>\n",
       "      <td>NaN</td>\n",
       "      <td>NaN</td>\n",
       "      <td>0.0</td>\n",
       "      <td>0.0</td>\n",
       "      <td>0.0</td>\n",
       "      <td>0.0</td>\n",
       "      <td>0.0</td>\n",
       "      <td>4210.0</td>\n",
       "      <td>...</td>\n",
       "      <td>15655546.0</td>\n",
       "      <td>7961190.0</td>\n",
       "      <td>15573746.0</td>\n",
       "      <td>13337708.0</td>\n",
       "      <td>9939694.0</td>\n",
       "      <td>6375252.0</td>\n",
       "      <td>6517696.0</td>\n",
       "      <td>180452.0</td>\n",
       "      <td>0.0</td>\n",
       "      <td>0.0</td>\n",
       "    </tr>\n",
       "    <tr>\n",
       "      <th>2</th>\n",
       "      <td>341116.0</td>\n",
       "      <td>NaN</td>\n",
       "      <td>730.0</td>\n",
       "      <td>NaN</td>\n",
       "      <td>0.0</td>\n",
       "      <td>0.0</td>\n",
       "      <td>0.0</td>\n",
       "      <td>6782.0</td>\n",
       "      <td>243092.0</td>\n",
       "      <td>2693264.0</td>\n",
       "      <td>...</td>\n",
       "      <td>1392970.0</td>\n",
       "      <td>670836.0</td>\n",
       "      <td>1622420.0</td>\n",
       "      <td>2006306.0</td>\n",
       "      <td>5831812.0</td>\n",
       "      <td>3198600.0</td>\n",
       "      <td>47068.0</td>\n",
       "      <td>0.0</td>\n",
       "      <td>0.0</td>\n",
       "      <td>0.0</td>\n",
       "    </tr>\n",
       "    <tr>\n",
       "      <th>3</th>\n",
       "      <td>207292.0</td>\n",
       "      <td>NaN</td>\n",
       "      <td>3418.0</td>\n",
       "      <td>NaN</td>\n",
       "      <td>0.0</td>\n",
       "      <td>0.0</td>\n",
       "      <td>0.0</td>\n",
       "      <td>34086.0</td>\n",
       "      <td>300110.0</td>\n",
       "      <td>2063184.0</td>\n",
       "      <td>...</td>\n",
       "      <td>1075284.0</td>\n",
       "      <td>748704.0</td>\n",
       "      <td>1892554.0</td>\n",
       "      <td>2372806.0</td>\n",
       "      <td>3308370.0</td>\n",
       "      <td>176844.0</td>\n",
       "      <td>4860.0</td>\n",
       "      <td>0.0</td>\n",
       "      <td>0.0</td>\n",
       "      <td>0.0</td>\n",
       "    </tr>\n",
       "    <tr>\n",
       "      <th>4</th>\n",
       "      <td>1386134.0</td>\n",
       "      <td>NaN</td>\n",
       "      <td>0.0</td>\n",
       "      <td>NaN</td>\n",
       "      <td>0.0</td>\n",
       "      <td>0.0</td>\n",
       "      <td>0.0</td>\n",
       "      <td>0.0</td>\n",
       "      <td>0.0</td>\n",
       "      <td>37938.0</td>\n",
       "      <td>...</td>\n",
       "      <td>11849780.0</td>\n",
       "      <td>6078744.0</td>\n",
       "      <td>11391988.0</td>\n",
       "      <td>9705102.0</td>\n",
       "      <td>10601346.0</td>\n",
       "      <td>5264516.0</td>\n",
       "      <td>6692608.0</td>\n",
       "      <td>634500.0</td>\n",
       "      <td>0.0</td>\n",
       "      <td>0.0</td>\n",
       "    </tr>\n",
       "  </tbody>\n",
       "</table>\n",
       "<p>5 rows × 171 columns</p>\n",
       "</div>"
      ],
      "text/plain": [
       "      aa_000  ab_000   ac_000  ad_000  ae_000  af_000  ag_000   ag_001  \\\n",
       "0  1056758.0     0.0  42328.0   856.0     0.0     0.0     0.0  50394.0   \n",
       "1  1665858.0     NaN      NaN     NaN     0.0     0.0     0.0      0.0   \n",
       "2   341116.0     NaN    730.0     NaN     0.0     0.0     0.0   6782.0   \n",
       "3   207292.0     NaN   3418.0     NaN     0.0     0.0     0.0  34086.0   \n",
       "4  1386134.0     NaN      0.0     NaN     0.0     0.0     0.0      0.0   \n",
       "\n",
       "     ag_002     ag_003  ...      ee_002     ee_003      ee_004      ee_005  \\\n",
       "0  184552.0  2116260.0  ...   1450086.0   713608.0   1750894.0   4054554.0   \n",
       "1       0.0     4210.0  ...  15655546.0  7961190.0  15573746.0  13337708.0   \n",
       "2  243092.0  2693264.0  ...   1392970.0   670836.0   1622420.0   2006306.0   \n",
       "3  300110.0  2063184.0  ...   1075284.0   748704.0   1892554.0   2372806.0   \n",
       "4       0.0    37938.0  ...  11849780.0  6078744.0  11391988.0   9705102.0   \n",
       "\n",
       "       ee_006     ee_007     ee_008    ee_009  ef_000  eg_000  \n",
       "0   4096660.0  2295880.0   220478.0     482.0     0.0     0.0  \n",
       "1   9939694.0  6375252.0  6517696.0  180452.0     0.0     0.0  \n",
       "2   5831812.0  3198600.0    47068.0       0.0     0.0     0.0  \n",
       "3   3308370.0   176844.0     4860.0       0.0     0.0     0.0  \n",
       "4  10601346.0  5264516.0  6692608.0  634500.0     0.0     0.0  \n",
       "\n",
       "[5 rows x 171 columns]"
      ]
     },
     "execution_count": 2,
     "metadata": {},
     "output_type": "execute_result"
    }
   ],
   "source": [
    "df = pd.read_csv('../data/sensor.csv', na_values='na')\n",
    "df.head()"
   ]
  },
  {
   "cell_type": "code",
   "execution_count": 3,
   "metadata": {},
   "outputs": [
    {
     "name": "stdout",
     "output_type": "stream",
     "text": [
      "<class 'pandas.core.frame.DataFrame'>\n",
      "RangeIndex: 35002 entries, 0 to 35001\n",
      "Columns: 171 entries, aa_000 to eg_000\n",
      "dtypes: float64(170), object(1)\n",
      "memory usage: 45.7+ MB\n"
     ]
    }
   ],
   "source": [
    "df.info()"
   ]
  },
  {
   "cell_type": "code",
   "execution_count": 4,
   "metadata": {},
   "outputs": [],
   "source": [
    "input_columns = [col for col in df.columns if df[col].dtype != 'O']\n",
    "target_columns = [col for col in df.columns if df[col].dtype == 'O']"
   ]
  },
  {
   "cell_type": "code",
   "execution_count": 5,
   "metadata": {},
   "outputs": [
    {
     "data": {
      "text/plain": [
       "['aa_000',\n",
       " 'ab_000',\n",
       " 'ac_000',\n",
       " 'ad_000',\n",
       " 'ae_000',\n",
       " 'af_000',\n",
       " 'ag_000',\n",
       " 'ag_001',\n",
       " 'ag_002',\n",
       " 'ag_003',\n",
       " 'ag_004',\n",
       " 'ag_005',\n",
       " 'ag_006',\n",
       " 'ag_007',\n",
       " 'ag_008',\n",
       " 'ag_009',\n",
       " 'ah_000',\n",
       " 'ai_000',\n",
       " 'aj_000',\n",
       " 'ak_000',\n",
       " 'al_000',\n",
       " 'am_0',\n",
       " 'an_000',\n",
       " 'ao_000',\n",
       " 'ap_000',\n",
       " 'aq_000',\n",
       " 'ar_000',\n",
       " 'as_000',\n",
       " 'at_000',\n",
       " 'au_000',\n",
       " 'av_000',\n",
       " 'ax_000',\n",
       " 'ay_000',\n",
       " 'ay_001',\n",
       " 'ay_002',\n",
       " 'ay_003',\n",
       " 'ay_004',\n",
       " 'ay_005',\n",
       " 'ay_006',\n",
       " 'ay_007',\n",
       " 'ay_008',\n",
       " 'ay_009',\n",
       " 'az_000',\n",
       " 'az_001',\n",
       " 'az_002',\n",
       " 'az_003',\n",
       " 'az_004',\n",
       " 'az_005',\n",
       " 'az_006',\n",
       " 'az_007',\n",
       " 'az_008',\n",
       " 'az_009',\n",
       " 'ba_000',\n",
       " 'ba_001',\n",
       " 'ba_002',\n",
       " 'ba_003',\n",
       " 'ba_004',\n",
       " 'ba_005',\n",
       " 'ba_006',\n",
       " 'ba_007',\n",
       " 'ba_008',\n",
       " 'ba_009',\n",
       " 'bb_000',\n",
       " 'bc_000',\n",
       " 'bd_000',\n",
       " 'be_000',\n",
       " 'bf_000',\n",
       " 'bg_000',\n",
       " 'bh_000',\n",
       " 'bi_000',\n",
       " 'bj_000',\n",
       " 'bk_000',\n",
       " 'bl_000',\n",
       " 'bm_000',\n",
       " 'bn_000',\n",
       " 'bo_000',\n",
       " 'bp_000',\n",
       " 'bq_000',\n",
       " 'br_000',\n",
       " 'bs_000',\n",
       " 'bt_000',\n",
       " 'bu_000',\n",
       " 'bv_000',\n",
       " 'bx_000',\n",
       " 'by_000',\n",
       " 'bz_000',\n",
       " 'ca_000',\n",
       " 'cb_000',\n",
       " 'cc_000',\n",
       " 'cd_000',\n",
       " 'ce_000',\n",
       " 'cf_000',\n",
       " 'cg_000',\n",
       " 'ch_000',\n",
       " 'ci_000',\n",
       " 'cj_000',\n",
       " 'ck_000',\n",
       " 'cl_000',\n",
       " 'cm_000',\n",
       " 'cn_000',\n",
       " 'cn_001',\n",
       " 'cn_002',\n",
       " 'cn_003',\n",
       " 'cn_004',\n",
       " 'cn_005',\n",
       " 'cn_006',\n",
       " 'cn_007',\n",
       " 'cn_008',\n",
       " 'cn_009',\n",
       " 'co_000',\n",
       " 'cp_000',\n",
       " 'cq_000',\n",
       " 'cr_000',\n",
       " 'cs_000',\n",
       " 'cs_001',\n",
       " 'cs_002',\n",
       " 'cs_003',\n",
       " 'cs_004',\n",
       " 'cs_005',\n",
       " 'cs_006',\n",
       " 'cs_007',\n",
       " 'cs_008',\n",
       " 'cs_009',\n",
       " 'ct_000',\n",
       " 'cu_000',\n",
       " 'cv_000',\n",
       " 'cx_000',\n",
       " 'cy_000',\n",
       " 'cz_000',\n",
       " 'da_000',\n",
       " 'db_000',\n",
       " 'dc_000',\n",
       " 'dd_000',\n",
       " 'de_000',\n",
       " 'df_000',\n",
       " 'dg_000',\n",
       " 'dh_000',\n",
       " 'di_000',\n",
       " 'dj_000',\n",
       " 'dk_000',\n",
       " 'dl_000',\n",
       " 'dm_000',\n",
       " 'dn_000',\n",
       " 'do_000',\n",
       " 'dp_000',\n",
       " 'dq_000',\n",
       " 'dr_000',\n",
       " 'ds_000',\n",
       " 'dt_000',\n",
       " 'du_000',\n",
       " 'dv_000',\n",
       " 'dx_000',\n",
       " 'dy_000',\n",
       " 'dz_000',\n",
       " 'ea_000',\n",
       " 'eb_000',\n",
       " 'ec_00',\n",
       " 'ed_000',\n",
       " 'ee_000',\n",
       " 'ee_001',\n",
       " 'ee_002',\n",
       " 'ee_003',\n",
       " 'ee_004',\n",
       " 'ee_005',\n",
       " 'ee_006',\n",
       " 'ee_007',\n",
       " 'ee_008',\n",
       " 'ee_009',\n",
       " 'ef_000',\n",
       " 'eg_000']"
      ]
     },
     "execution_count": 5,
     "metadata": {},
     "output_type": "execute_result"
    }
   ],
   "source": [
    "input_columns"
   ]
  },
  {
   "cell_type": "code",
   "execution_count": 6,
   "metadata": {},
   "outputs": [
    {
     "data": {
      "text/plain": [
       "['class']"
      ]
     },
     "execution_count": 6,
     "metadata": {},
     "output_type": "execute_result"
    }
   ],
   "source": [
    "target_columns"
   ]
  },
  {
   "cell_type": "code",
   "execution_count": 7,
   "metadata": {},
   "outputs": [
    {
     "data": {
      "text/plain": [
       "class\n",
       "neg      34020\n",
       "pos        981\n",
       "dtype: int64"
      ]
     },
     "execution_count": 7,
     "metadata": {},
     "output_type": "execute_result"
    }
   ],
   "source": [
    "# checking the imbalance of target column\n",
    "df[target_columns].value_counts()"
   ]
  },
  {
   "cell_type": "code",
   "execution_count": 8,
   "metadata": {},
   "outputs": [
    {
     "data": {
      "text/plain": [
       "<AxesSubplot:xlabel='class'>"
      ]
     },
     "execution_count": 8,
     "metadata": {},
     "output_type": "execute_result"
    },
    {
     "data": {
      "image/png": "[encoded data removed]",
      "text/plain": [
       "<Figure size 640x480 with 1 Axes>"
      ]
     },
     "metadata": {},
     "output_type": "display_data"
    }
   ],
   "source": [
    "df[target_columns].value_counts().plot(kind= 'bar') # this is a biased dataset"
   ]
  },
  {
   "cell_type": "code",
   "execution_count": 9,
   "metadata": {},
   "outputs": [
    {
     "data": {
      "text/plain": [
       "aa_000        1\n",
       "ab_000    26995\n",
       "ac_000     2083\n",
       "ad_000     8921\n",
       "ae_000     1543\n",
       "          ...  \n",
       "ee_007      369\n",
       "ee_008      369\n",
       "ee_009      369\n",
       "ef_000     1685\n",
       "eg_000     1684\n",
       "Length: 171, dtype: int64"
      ]
     },
     "execution_count": 9,
     "metadata": {},
     "output_type": "execute_result"
    }
   ],
   "source": [
    "# checking missing values\n",
    "\n",
    "df.isna().sum()"
   ]
  },
  {
   "cell_type": "code",
   "execution_count": 10,
   "metadata": {},
   "outputs": [
    {
     "data": {
      "text/html": [
       "<div>\n",
       "<style scoped>\n",
       "    .dataframe tbody tr th:only-of-type {\n",
       "        vertical-align: middle;\n",
       "    }\n",
       "\n",
       "    .dataframe tbody tr th {\n",
       "        vertical-align: top;\n",
       "    }\n",
       "\n",
       "    .dataframe thead th {\n",
       "        text-align: right;\n",
       "    }\n",
       "</style>\n",
       "<table border=\"1\" class=\"dataframe\">\n",
       "  <thead>\n",
       "    <tr style=\"text-align: right;\">\n",
       "      <th></th>\n",
       "      <th>index</th>\n",
       "      <th>0</th>\n",
       "    </tr>\n",
       "  </thead>\n",
       "  <tbody>\n",
       "    <tr>\n",
       "      <th>0</th>\n",
       "      <td>aa_000</td>\n",
       "      <td>0.003</td>\n",
       "    </tr>\n",
       "    <tr>\n",
       "      <th>1</th>\n",
       "      <td>ab_000</td>\n",
       "      <td>77.124</td>\n",
       "    </tr>\n",
       "    <tr>\n",
       "      <th>2</th>\n",
       "      <td>ac_000</td>\n",
       "      <td>5.951</td>\n",
       "    </tr>\n",
       "    <tr>\n",
       "      <th>3</th>\n",
       "      <td>ad_000</td>\n",
       "      <td>25.487</td>\n",
       "    </tr>\n",
       "    <tr>\n",
       "      <th>4</th>\n",
       "      <td>ae_000</td>\n",
       "      <td>4.408</td>\n",
       "    </tr>\n",
       "    <tr>\n",
       "      <th>...</th>\n",
       "      <td>...</td>\n",
       "      <td>...</td>\n",
       "    </tr>\n",
       "    <tr>\n",
       "      <th>166</th>\n",
       "      <td>ee_007</td>\n",
       "      <td>1.054</td>\n",
       "    </tr>\n",
       "    <tr>\n",
       "      <th>167</th>\n",
       "      <td>ee_008</td>\n",
       "      <td>1.054</td>\n",
       "    </tr>\n",
       "    <tr>\n",
       "      <th>168</th>\n",
       "      <td>ee_009</td>\n",
       "      <td>1.054</td>\n",
       "    </tr>\n",
       "    <tr>\n",
       "      <th>169</th>\n",
       "      <td>ef_000</td>\n",
       "      <td>4.814</td>\n",
       "    </tr>\n",
       "    <tr>\n",
       "      <th>170</th>\n",
       "      <td>eg_000</td>\n",
       "      <td>4.811</td>\n",
       "    </tr>\n",
       "  </tbody>\n",
       "</table>\n",
       "<p>171 rows × 2 columns</p>\n",
       "</div>"
      ],
      "text/plain": [
       "      index       0\n",
       "0    aa_000   0.003\n",
       "1    ab_000  77.124\n",
       "2    ac_000   5.951\n",
       "3    ad_000  25.487\n",
       "4    ae_000   4.408\n",
       "..      ...     ...\n",
       "166  ee_007   1.054\n",
       "167  ee_008   1.054\n",
       "168  ee_009   1.054\n",
       "169  ef_000   4.814\n",
       "170  eg_000   4.811\n",
       "\n",
       "[171 rows x 2 columns]"
      ]
     },
     "execution_count": 10,
     "metadata": {},
     "output_type": "execute_result"
    }
   ],
   "source": [
    "round(df.isna().sum().div(df.shape[0]).mul(100),3).to_frame().reset_index()"
   ]
  },
  {
   "cell_type": "code",
   "execution_count": 11,
   "metadata": {},
   "outputs": [
    {
     "data": {
      "text/html": [
       "<div>\n",
       "<style scoped>\n",
       "    .dataframe tbody tr th:only-of-type {\n",
       "        vertical-align: middle;\n",
       "    }\n",
       "\n",
       "    .dataframe tbody tr th {\n",
       "        vertical-align: top;\n",
       "    }\n",
       "\n",
       "    .dataframe thead th {\n",
       "        text-align: right;\n",
       "    }\n",
       "</style>\n",
       "<table border=\"1\" class=\"dataframe\">\n",
       "  <thead>\n",
       "    <tr style=\"text-align: right;\">\n",
       "      <th></th>\n",
       "      <th>index</th>\n",
       "      <th>0</th>\n",
       "    </tr>\n",
       "  </thead>\n",
       "  <tbody>\n",
       "    <tr>\n",
       "      <th>78</th>\n",
       "      <td>br_000</td>\n",
       "      <td>81.350</td>\n",
       "    </tr>\n",
       "    <tr>\n",
       "      <th>77</th>\n",
       "      <td>bq_000</td>\n",
       "      <td>80.438</td>\n",
       "    </tr>\n",
       "    <tr>\n",
       "      <th>76</th>\n",
       "      <td>bp_000</td>\n",
       "      <td>78.713</td>\n",
       "    </tr>\n",
       "    <tr>\n",
       "      <th>113</th>\n",
       "      <td>cr_000</td>\n",
       "      <td>77.124</td>\n",
       "    </tr>\n",
       "    <tr>\n",
       "      <th>1</th>\n",
       "      <td>ab_000</td>\n",
       "      <td>77.124</td>\n",
       "    </tr>\n",
       "    <tr>\n",
       "      <th>...</th>\n",
       "      <td>...</td>\n",
       "      <td>...</td>\n",
       "    </tr>\n",
       "    <tr>\n",
       "      <th>95</th>\n",
       "      <td>cj_000</td>\n",
       "      <td>0.569</td>\n",
       "    </tr>\n",
       "    <tr>\n",
       "      <th>94</th>\n",
       "      <td>ci_000</td>\n",
       "      <td>0.569</td>\n",
       "    </tr>\n",
       "    <tr>\n",
       "      <th>80</th>\n",
       "      <td>bt_000</td>\n",
       "      <td>0.240</td>\n",
       "    </tr>\n",
       "    <tr>\n",
       "      <th>98</th>\n",
       "      <td>class</td>\n",
       "      <td>0.003</td>\n",
       "    </tr>\n",
       "    <tr>\n",
       "      <th>0</th>\n",
       "      <td>aa_000</td>\n",
       "      <td>0.003</td>\n",
       "    </tr>\n",
       "  </tbody>\n",
       "</table>\n",
       "<p>171 rows × 2 columns</p>\n",
       "</div>"
      ],
      "text/plain": [
       "      index       0\n",
       "78   br_000  81.350\n",
       "77   bq_000  80.438\n",
       "76   bp_000  78.713\n",
       "113  cr_000  77.124\n",
       "1    ab_000  77.124\n",
       "..      ...     ...\n",
       "95   cj_000   0.569\n",
       "94   ci_000   0.569\n",
       "80   bt_000   0.240\n",
       "98    class   0.003\n",
       "0    aa_000   0.003\n",
       "\n",
       "[171 rows x 2 columns]"
      ]
     },
     "execution_count": 11,
     "metadata": {},
     "output_type": "execute_result"
    }
   ],
   "source": [
    "perc_null_df = (round(df.isna().sum().div(df.shape[0]).mul(100),3)).to_frame().reset_index().sort_values(by=[0], ascending=False)\n",
    "perc_null_df"
   ]
  },
  {
   "cell_type": "code",
   "execution_count": 12,
   "metadata": {},
   "outputs": [],
   "source": [
    "perc_null_df.rename(columns={'index':'col_name',0:'Perc_nul_val'}, inplace=True)"
   ]
  },
  {
   "cell_type": "code",
   "execution_count": 13,
   "metadata": {},
   "outputs": [
    {
     "data": {
      "text/plain": [
       "Index(['col_name', 'Perc_nul_val'], dtype='object')"
      ]
     },
     "execution_count": 13,
     "metadata": {},
     "output_type": "execute_result"
    }
   ],
   "source": [
    "perc_null_df.columns"
   ]
  },
  {
   "cell_type": "code",
   "execution_count": 14,
   "metadata": {},
   "outputs": [
    {
     "data": {
      "text/html": [
       "<div>\n",
       "<style scoped>\n",
       "    .dataframe tbody tr th:only-of-type {\n",
       "        vertical-align: middle;\n",
       "    }\n",
       "\n",
       "    .dataframe tbody tr th {\n",
       "        vertical-align: top;\n",
       "    }\n",
       "\n",
       "    .dataframe thead th {\n",
       "        text-align: right;\n",
       "    }\n",
       "</style>\n",
       "<table border=\"1\" class=\"dataframe\">\n",
       "  <thead>\n",
       "    <tr style=\"text-align: right;\">\n",
       "      <th></th>\n",
       "      <th>col_name</th>\n",
       "      <th>Perc_nul_val</th>\n",
       "    </tr>\n",
       "  </thead>\n",
       "  <tbody>\n",
       "    <tr>\n",
       "      <th>78</th>\n",
       "      <td>br_000</td>\n",
       "      <td>81.350</td>\n",
       "    </tr>\n",
       "    <tr>\n",
       "      <th>77</th>\n",
       "      <td>bq_000</td>\n",
       "      <td>80.438</td>\n",
       "    </tr>\n",
       "    <tr>\n",
       "      <th>76</th>\n",
       "      <td>bp_000</td>\n",
       "      <td>78.713</td>\n",
       "    </tr>\n",
       "    <tr>\n",
       "      <th>113</th>\n",
       "      <td>cr_000</td>\n",
       "      <td>77.124</td>\n",
       "    </tr>\n",
       "    <tr>\n",
       "      <th>1</th>\n",
       "      <td>ab_000</td>\n",
       "      <td>77.124</td>\n",
       "    </tr>\n",
       "    <tr>\n",
       "      <th>75</th>\n",
       "      <td>bo_000</td>\n",
       "      <td>76.467</td>\n",
       "    </tr>\n",
       "    <tr>\n",
       "      <th>74</th>\n",
       "      <td>bn_000</td>\n",
       "      <td>72.702</td>\n",
       "    </tr>\n",
       "  </tbody>\n",
       "</table>\n",
       "</div>"
      ],
      "text/plain": [
       "    col_name  Perc_nul_val\n",
       "78    br_000        81.350\n",
       "77    bq_000        80.438\n",
       "76    bp_000        78.713\n",
       "113   cr_000        77.124\n",
       "1     ab_000        77.124\n",
       "75    bo_000        76.467\n",
       "74    bn_000        72.702"
      ]
     },
     "execution_count": 14,
     "metadata": {},
     "output_type": "execute_result"
    }
   ],
   "source": [
    "drop_cols = perc_null_df[perc_null_df['Perc_nul_val']>70]\n",
    "drop_cols"
   ]
  },
  {
   "cell_type": "code",
   "execution_count": 15,
   "metadata": {},
   "outputs": [
    {
     "data": {
      "text/plain": [
       "(35002, 171)"
      ]
     },
     "execution_count": 15,
     "metadata": {},
     "output_type": "execute_result"
    }
   ],
   "source": [
    "df.shape"
   ]
  },
  {
   "cell_type": "code",
   "execution_count": 16,
   "metadata": {},
   "outputs": [],
   "source": [
    "df.drop(drop_cols['col_name'], axis=1, inplace= True) # axis=1 for column and axis=0 for rows"
   ]
  },
  {
   "cell_type": "code",
   "execution_count": 17,
   "metadata": {},
   "outputs": [
    {
     "data": {
      "text/plain": [
       "(35002, 164)"
      ]
     },
     "execution_count": 17,
     "metadata": {},
     "output_type": "execute_result"
    }
   ],
   "source": [
    "df.shape"
   ]
  },
  {
   "cell_type": "code",
   "execution_count": 18,
   "metadata": {},
   "outputs": [
    {
     "data": {
      "text/plain": [
       "309391"
      ]
     },
     "execution_count": 18,
     "metadata": {},
     "output_type": "execute_result"
    }
   ],
   "source": [
    "df.isna().sum().sum()"
   ]
  },
  {
   "cell_type": "code",
   "execution_count": 19,
   "metadata": {},
   "outputs": [
    {
     "data": {
      "text/plain": [
       "5740328"
      ]
     },
     "execution_count": 19,
     "metadata": {},
     "output_type": "execute_result"
    }
   ],
   "source": [
    "np.product(df.shape)"
   ]
  },
  {
   "cell_type": "code",
   "execution_count": 20,
   "metadata": {},
   "outputs": [
    {
     "data": {
      "text/plain": [
       "'Percentage missing : 5.39%'"
      ]
     },
     "execution_count": 20,
     "metadata": {},
     "output_type": "execute_result"
    }
   ],
   "source": [
    "f\"Percentage missing : {round(df.isna().sum().sum()/np.product(df.shape)*100,2)}%\""
   ]
  },
  {
   "cell_type": "markdown",
   "metadata": {},
   "source": [
    "## Univerate analysis"
   ]
  },
  {
   "cell_type": "code",
   "execution_count": 21,
   "metadata": {},
   "outputs": [
    {
     "data": {
      "text/plain": [
       "<seaborn.axisgrid.FacetGrid at 0x2038003aca0>"
      ]
     },
     "execution_count": 21,
     "metadata": {},
     "output_type": "execute_result"
    },
    {
     "data": {
      "text/plain": [
       "<Figure size 300x300 with 0 Axes>"
      ]
     },
     "metadata": {},
     "output_type": "display_data"
    },
    {
     "data": {
      "image/png": "[encoded data removed]",
      "text/plain": [
       "<Figure size 500x500 with 1 Axes>"
      ]
     },
     "metadata": {},
     "output_type": "display_data"
    }
   ],
   "source": [
    "plt.figure(figsize=(3,3))\n",
    "sns.displot(df['ee_004'],color='indianred')"
   ]
  },
  {
   "cell_type": "code",
   "execution_count": 22,
   "metadata": {},
   "outputs": [],
   "source": [
    "numerical_columns = [col for col in df.columns if df[col].dtype != 'O']\n",
    "categorical_columns = [col for col in df.columns if df[col].dtype == 'O']"
   ]
  },
  {
   "cell_type": "code",
   "execution_count": 64,
   "metadata": {},
   "outputs": [],
   "source": [
    "plt.figure(figsize=(15,100))\n",
    "for i, col in enumerate(numerical_columns):\n",
    "    plt.subplot(60,3,i+1)\n",
    "    sns.displot(x=df[col],color='indianred')\n",
    "    plt.xlabel(col, weight = 'bold')\n",
    "    plt.tight_layout()"
   ]
  },
  {
   "cell_type": "code",
   "execution_count": 23,
   "metadata": {},
   "outputs": [],
   "source": [
    "from sklearn.preprocessing import PowerTransformer\n",
    "from sklearn.preprocessing import LabelEncoder\n",
    "from sklearn.pipeline import Pipeline\n",
    "from sklearn.utils import resample\n",
    "\n",
    "from sklearn.linear_model import LogisticRegression\n",
    "from sklearn.tree import DecisionTreeClassifier\n",
    "from sklearn.ensemble import RandomForestClassifier, AdaBoostClassifier, GradientBoostingClassifier\n",
    "from sklearn.neighbors import KNeighborsClassifier\n",
    "from sklearn.svm import SVC\n",
    "from sklearn.metrics import accuracy_score, classification_report,ConfusionMatrixDisplay, \\\n",
    "                            precision_score, recall_score, f1_score, roc_auc_score,roc_curve,confusion_matrix\n",
    "from sklearn import metrics \n",
    "from sklearn.model_selection import  train_test_split, RepeatedStratifiedKFold, cross_val_score\n",
    "from sklearn.preprocessing import OneHotEncoder, MinMaxScaler\n",
    "from sklearn.compose import ColumnTransformer\n",
    "from sklearn.impute import SimpleImputer, KNNImputer\n",
    "#from xgboost import XGBClassifier\n",
    "from sklearn.preprocessing import StandardScaler, MinMaxScaler,RobustScaler\n",
    "from sklearn.compose import ColumnTransformer"
   ]
  },
  {
   "cell_type": "code",
   "execution_count": 24,
   "metadata": {},
   "outputs": [],
   "source": [
    "def evaluate_model(true,predicted):\n",
    "    \"\"\"\n",
    "    This function takes in true values and predicted values and compares it\n",
    "    Returns: Accuracy,F1-Score,Precision,Recall, Roc-auc Score\n",
    "    \"\"\"\n",
    "    \n",
    "    acc = accuracy_score(true,predicted) # Calcuate Accuracy\n",
    "    f1 = f1_score(true,predicted)\n",
    "    precesion = precision_score(true,predicted)\n",
    "    recall = recall_score(true,predicted)\n",
    "    roc_auc = roc_auc_score(true,predicted)\n",
    "    return acc ,f1,precesion,recall,roc_auc"
   ]
  },
  {
   "cell_type": "code",
   "execution_count": 25,
   "metadata": {},
   "outputs": [],
   "source": [
    "# Create cost of the model as per data description\n",
    "def total_cost(y_true,y_pred):\n",
    "    '''\n",
    "    This function takes y_true and y_predected and prints Total cost due to misclassification \n",
    "    '''\n",
    "    \n",
    "    tn,fp,fn,tp = confusion_matrix(y_true,y_pred).ravel()\n",
    "    cost =10*fp +500*fn\n",
    "    \n",
    "    return cost"
   ]
  },
  {
   "cell_type": "code",
   "execution_count": 26,
   "metadata": {},
   "outputs": [],
   "source": [
    "# Dictionary which contains models for experiment\n",
    "models = {\n",
    "    \"Random Forest\": RandomForestClassifier(),\n",
    "    \"Decision Tree\": DecisionTreeClassifier(),\n",
    "    \"Gradient Boosting\": GradientBoostingClassifier(),\n",
    "    \"Logistic Regression\": LogisticRegression(),\n",
    "     \"K-Neighbors Classifier\": KNeighborsClassifier(),\n",
    "#     \"XGBClassifier\": XGBClassifier(), \n",
    "#      \"CatBoosting Classifier\": CatBoostClassifier(verbose=False),\n",
    "    \"AdaBoost Classifier\": AdaBoostClassifier()\n",
    "}"
   ]
  },
  {
   "cell_type": "code",
   "execution_count": 71,
   "metadata": {},
   "outputs": [],
   "source": [
    "## create a function which can evaluate model and returns a report\n",
    "\n",
    "def evaluate(X,y,models):\n",
    "    '''\n",
    "    This function takes X ,y and model as input\n",
    "    It splits into train and test\n",
    "    evalute the metrics for train and test\n",
    "    Return: Dataframe which contains report of all models metrics with cost\n",
    "    '''\n",
    "    \n",
    "    X_train,X_test,y_train,y_test =train_test_split(X,y,test_size=0.25,random_state=40)\n",
    "    \n",
    "    cost_list=[]\n",
    "    models_list=[]\n",
    "    accuracy_list=[]\n",
    "    \n",
    "    for i in range(len(list(models))):\n",
    "        model = list(models.values())[i]\n",
    "        print(model)\n",
    "        model.fit(X_train,y_train)\n",
    "        \n",
    "        #Making the Prediction\n",
    "        y_train_pred = model.predict(X_train)\n",
    "        y_test_pred = model.predict(X_test)\n",
    "        \n",
    "        # Training set perforamnce\n",
    "        model_train_acc,model_train_f1,model_train_precission,model_train_recall, \\\n",
    "        model_train_roc = evaluate_model(y_train,y_train_pred)\n",
    "        train_cost= total_cost(y_train,y_train_pred)\n",
    "        \n",
    "        # test set perforamnce\n",
    "        model_test_acc,model_test_f1,model_test_precission,model_test_recall, \\\n",
    "        model_test_roc = evaluate_model(y_test,y_test_pred)\n",
    "        test_cost= total_cost(y_test,y_test_pred)\n",
    "        \n",
    "        print(\"Model Name - \",list(models.keys())[i]) ### It will print the algo name\n",
    "        models_list.append(list(models.keys())[i])\n",
    "        cost_list.append(test_cost)\n",
    "        \n",
    "        \n",
    "        print('######## Model performance for training set ########')\n",
    "        print(f\"Accuracy------------>{model_train_acc}\")\n",
    "        print(f\"F1 score------------>{model_train_f1}\")\n",
    "        print(f\"Precesion----------->{model_train_precission}\")\n",
    "        print(f\"Recall-------------->{model_train_recall}\")\n",
    "        print(f\"Roc Auc Score------->{model_train_roc}\")\n",
    "        \n",
    "        print('######## Model performance for test set ########')\n",
    "        print(f\"Accuracy------------>{model_test_acc}\")\n",
    "        print(f\"F1 score------------>{model_test_f1}\")\n",
    "        print(f\"Precesion----------->{model_test_precission}\")\n",
    "        print(f\"Recall-------------->{model_test_recall}\")\n",
    "        print(f\"Roc Auc Score------->{model_test_roc}\")\n",
    "        print(\"\\n\")\n",
    "    report = pd.DataFrame(list(zip(models_list,cost_list)),columns=['ModelName','Cost']).sort_values(by=['Cost'])\n",
    "    \n",
    "    return report"
   ]
  },
  {
   "cell_type": "code",
   "execution_count": 28,
   "metadata": {},
   "outputs": [],
   "source": [
    "X= df.drop('class',axis=1)\n",
    "y = df['class']"
   ]
  },
  {
   "cell_type": "code",
   "execution_count": 35,
   "metadata": {},
   "outputs": [
    {
     "data": {
      "text/html": [
       "<div>\n",
       "<style scoped>\n",
       "    .dataframe tbody tr th:only-of-type {\n",
       "        vertical-align: middle;\n",
       "    }\n",
       "\n",
       "    .dataframe tbody tr th {\n",
       "        vertical-align: top;\n",
       "    }\n",
       "\n",
       "    .dataframe thead th {\n",
       "        text-align: right;\n",
       "    }\n",
       "</style>\n",
       "<table border=\"1\" class=\"dataframe\">\n",
       "  <thead>\n",
       "    <tr style=\"text-align: right;\">\n",
       "      <th></th>\n",
       "      <th>aa_000</th>\n",
       "      <th>ac_000</th>\n",
       "      <th>ad_000</th>\n",
       "      <th>ae_000</th>\n",
       "      <th>af_000</th>\n",
       "      <th>ag_000</th>\n",
       "      <th>ag_001</th>\n",
       "      <th>ag_002</th>\n",
       "      <th>ag_003</th>\n",
       "      <th>ag_004</th>\n",
       "      <th>...</th>\n",
       "      <th>ee_002</th>\n",
       "      <th>ee_003</th>\n",
       "      <th>ee_004</th>\n",
       "      <th>ee_005</th>\n",
       "      <th>ee_006</th>\n",
       "      <th>ee_007</th>\n",
       "      <th>ee_008</th>\n",
       "      <th>ee_009</th>\n",
       "      <th>ef_000</th>\n",
       "      <th>eg_000</th>\n",
       "    </tr>\n",
       "  </thead>\n",
       "  <tbody>\n",
       "    <tr>\n",
       "      <th>0</th>\n",
       "      <td>1056758.0</td>\n",
       "      <td>4.232800e+04</td>\n",
       "      <td>856.0</td>\n",
       "      <td>0.0</td>\n",
       "      <td>0.0</td>\n",
       "      <td>0.0</td>\n",
       "      <td>50394.0</td>\n",
       "      <td>184552.0</td>\n",
       "      <td>2116260.0</td>\n",
       "      <td>8359268.0</td>\n",
       "      <td>...</td>\n",
       "      <td>1450086.0</td>\n",
       "      <td>713608.0</td>\n",
       "      <td>1750894.0</td>\n",
       "      <td>4054554.0</td>\n",
       "      <td>4096660.0</td>\n",
       "      <td>2295880.0</td>\n",
       "      <td>220478.0</td>\n",
       "      <td>482.0</td>\n",
       "      <td>0.0</td>\n",
       "      <td>0.0</td>\n",
       "    </tr>\n",
       "    <tr>\n",
       "      <th>1</th>\n",
       "      <td>1665858.0</td>\n",
       "      <td>NaN</td>\n",
       "      <td>NaN</td>\n",
       "      <td>0.0</td>\n",
       "      <td>0.0</td>\n",
       "      <td>0.0</td>\n",
       "      <td>0.0</td>\n",
       "      <td>0.0</td>\n",
       "      <td>4210.0</td>\n",
       "      <td>847684.0</td>\n",
       "      <td>...</td>\n",
       "      <td>15655546.0</td>\n",
       "      <td>7961190.0</td>\n",
       "      <td>15573746.0</td>\n",
       "      <td>13337708.0</td>\n",
       "      <td>9939694.0</td>\n",
       "      <td>6375252.0</td>\n",
       "      <td>6517696.0</td>\n",
       "      <td>180452.0</td>\n",
       "      <td>0.0</td>\n",
       "      <td>0.0</td>\n",
       "    </tr>\n",
       "    <tr>\n",
       "      <th>2</th>\n",
       "      <td>341116.0</td>\n",
       "      <td>7.300000e+02</td>\n",
       "      <td>NaN</td>\n",
       "      <td>0.0</td>\n",
       "      <td>0.0</td>\n",
       "      <td>0.0</td>\n",
       "      <td>6782.0</td>\n",
       "      <td>243092.0</td>\n",
       "      <td>2693264.0</td>\n",
       "      <td>10294678.0</td>\n",
       "      <td>...</td>\n",
       "      <td>1392970.0</td>\n",
       "      <td>670836.0</td>\n",
       "      <td>1622420.0</td>\n",
       "      <td>2006306.0</td>\n",
       "      <td>5831812.0</td>\n",
       "      <td>3198600.0</td>\n",
       "      <td>47068.0</td>\n",
       "      <td>0.0</td>\n",
       "      <td>0.0</td>\n",
       "      <td>0.0</td>\n",
       "    </tr>\n",
       "    <tr>\n",
       "      <th>3</th>\n",
       "      <td>207292.0</td>\n",
       "      <td>3.418000e+03</td>\n",
       "      <td>NaN</td>\n",
       "      <td>0.0</td>\n",
       "      <td>0.0</td>\n",
       "      <td>0.0</td>\n",
       "      <td>34086.0</td>\n",
       "      <td>300110.0</td>\n",
       "      <td>2063184.0</td>\n",
       "      <td>6215198.0</td>\n",
       "      <td>...</td>\n",
       "      <td>1075284.0</td>\n",
       "      <td>748704.0</td>\n",
       "      <td>1892554.0</td>\n",
       "      <td>2372806.0</td>\n",
       "      <td>3308370.0</td>\n",
       "      <td>176844.0</td>\n",
       "      <td>4860.0</td>\n",
       "      <td>0.0</td>\n",
       "      <td>0.0</td>\n",
       "      <td>0.0</td>\n",
       "    </tr>\n",
       "    <tr>\n",
       "      <th>4</th>\n",
       "      <td>1386134.0</td>\n",
       "      <td>0.000000e+00</td>\n",
       "      <td>NaN</td>\n",
       "      <td>0.0</td>\n",
       "      <td>0.0</td>\n",
       "      <td>0.0</td>\n",
       "      <td>0.0</td>\n",
       "      <td>0.0</td>\n",
       "      <td>37938.0</td>\n",
       "      <td>2413744.0</td>\n",
       "      <td>...</td>\n",
       "      <td>11849780.0</td>\n",
       "      <td>6078744.0</td>\n",
       "      <td>11391988.0</td>\n",
       "      <td>9705102.0</td>\n",
       "      <td>10601346.0</td>\n",
       "      <td>5264516.0</td>\n",
       "      <td>6692608.0</td>\n",
       "      <td>634500.0</td>\n",
       "      <td>0.0</td>\n",
       "      <td>0.0</td>\n",
       "    </tr>\n",
       "    <tr>\n",
       "      <th>...</th>\n",
       "      <td>...</td>\n",
       "      <td>...</td>\n",
       "      <td>...</td>\n",
       "      <td>...</td>\n",
       "      <td>...</td>\n",
       "      <td>...</td>\n",
       "      <td>...</td>\n",
       "      <td>...</td>\n",
       "      <td>...</td>\n",
       "      <td>...</td>\n",
       "      <td>...</td>\n",
       "      <td>...</td>\n",
       "      <td>...</td>\n",
       "      <td>...</td>\n",
       "      <td>...</td>\n",
       "      <td>...</td>\n",
       "      <td>...</td>\n",
       "      <td>...</td>\n",
       "      <td>...</td>\n",
       "      <td>...</td>\n",
       "      <td>...</td>\n",
       "    </tr>\n",
       "    <tr>\n",
       "      <th>34997</th>\n",
       "      <td>37258.0</td>\n",
       "      <td>1.104000e+03</td>\n",
       "      <td>994.0</td>\n",
       "      <td>0.0</td>\n",
       "      <td>0.0</td>\n",
       "      <td>0.0</td>\n",
       "      <td>0.0</td>\n",
       "      <td>0.0</td>\n",
       "      <td>0.0</td>\n",
       "      <td>7350.0</td>\n",
       "      <td>...</td>\n",
       "      <td>336870.0</td>\n",
       "      <td>187466.0</td>\n",
       "      <td>402948.0</td>\n",
       "      <td>334876.0</td>\n",
       "      <td>238864.0</td>\n",
       "      <td>123876.0</td>\n",
       "      <td>69168.0</td>\n",
       "      <td>126.0</td>\n",
       "      <td>0.0</td>\n",
       "      <td>0.0</td>\n",
       "    </tr>\n",
       "    <tr>\n",
       "      <th>34998</th>\n",
       "      <td>26.0</td>\n",
       "      <td>2.130706e+09</td>\n",
       "      <td>16.0</td>\n",
       "      <td>0.0</td>\n",
       "      <td>0.0</td>\n",
       "      <td>0.0</td>\n",
       "      <td>0.0</td>\n",
       "      <td>0.0</td>\n",
       "      <td>0.0</td>\n",
       "      <td>58.0</td>\n",
       "      <td>...</td>\n",
       "      <td>492.0</td>\n",
       "      <td>16.0</td>\n",
       "      <td>46.0</td>\n",
       "      <td>18.0</td>\n",
       "      <td>18.0</td>\n",
       "      <td>0.0</td>\n",
       "      <td>0.0</td>\n",
       "      <td>0.0</td>\n",
       "      <td>0.0</td>\n",
       "      <td>0.0</td>\n",
       "    </tr>\n",
       "    <tr>\n",
       "      <th>34999</th>\n",
       "      <td>38024.0</td>\n",
       "      <td>0.000000e+00</td>\n",
       "      <td>NaN</td>\n",
       "      <td>0.0</td>\n",
       "      <td>0.0</td>\n",
       "      <td>0.0</td>\n",
       "      <td>0.0</td>\n",
       "      <td>0.0</td>\n",
       "      <td>0.0</td>\n",
       "      <td>1094.0</td>\n",
       "      <td>...</td>\n",
       "      <td>289008.0</td>\n",
       "      <td>150976.0</td>\n",
       "      <td>318968.0</td>\n",
       "      <td>206590.0</td>\n",
       "      <td>165736.0</td>\n",
       "      <td>136416.0</td>\n",
       "      <td>347438.0</td>\n",
       "      <td>22926.0</td>\n",
       "      <td>0.0</td>\n",
       "      <td>0.0</td>\n",
       "    </tr>\n",
       "    <tr>\n",
       "      <th>35000</th>\n",
       "      <td>11778.0</td>\n",
       "      <td>0.000000e+00</td>\n",
       "      <td>NaN</td>\n",
       "      <td>0.0</td>\n",
       "      <td>0.0</td>\n",
       "      <td>0.0</td>\n",
       "      <td>0.0</td>\n",
       "      <td>0.0</td>\n",
       "      <td>24.0</td>\n",
       "      <td>45020.0</td>\n",
       "      <td>...</td>\n",
       "      <td>404550.0</td>\n",
       "      <td>197372.0</td>\n",
       "      <td>50056.0</td>\n",
       "      <td>12084.0</td>\n",
       "      <td>4608.0</td>\n",
       "      <td>2236.0</td>\n",
       "      <td>2936.0</td>\n",
       "      <td>0.0</td>\n",
       "      <td>0.0</td>\n",
       "      <td>0.0</td>\n",
       "    </tr>\n",
       "    <tr>\n",
       "      <th>35001</th>\n",
       "      <td>NaN</td>\n",
       "      <td>NaN</td>\n",
       "      <td>NaN</td>\n",
       "      <td>NaN</td>\n",
       "      <td>NaN</td>\n",
       "      <td>NaN</td>\n",
       "      <td>NaN</td>\n",
       "      <td>NaN</td>\n",
       "      <td>NaN</td>\n",
       "      <td>NaN</td>\n",
       "      <td>...</td>\n",
       "      <td>NaN</td>\n",
       "      <td>NaN</td>\n",
       "      <td>NaN</td>\n",
       "      <td>NaN</td>\n",
       "      <td>NaN</td>\n",
       "      <td>NaN</td>\n",
       "      <td>NaN</td>\n",
       "      <td>NaN</td>\n",
       "      <td>NaN</td>\n",
       "      <td>NaN</td>\n",
       "    </tr>\n",
       "  </tbody>\n",
       "</table>\n",
       "<p>35002 rows × 163 columns</p>\n",
       "</div>"
      ],
      "text/plain": [
       "          aa_000        ac_000  ad_000  ae_000  af_000  ag_000   ag_001  \\\n",
       "0      1056758.0  4.232800e+04   856.0     0.0     0.0     0.0  50394.0   \n",
       "1      1665858.0           NaN     NaN     0.0     0.0     0.0      0.0   \n",
       "2       341116.0  7.300000e+02     NaN     0.0     0.0     0.0   6782.0   \n",
       "3       207292.0  3.418000e+03     NaN     0.0     0.0     0.0  34086.0   \n",
       "4      1386134.0  0.000000e+00     NaN     0.0     0.0     0.0      0.0   \n",
       "...          ...           ...     ...     ...     ...     ...      ...   \n",
       "34997    37258.0  1.104000e+03   994.0     0.0     0.0     0.0      0.0   \n",
       "34998       26.0  2.130706e+09    16.0     0.0     0.0     0.0      0.0   \n",
       "34999    38024.0  0.000000e+00     NaN     0.0     0.0     0.0      0.0   \n",
       "35000    11778.0  0.000000e+00     NaN     0.0     0.0     0.0      0.0   \n",
       "35001        NaN           NaN     NaN     NaN     NaN     NaN      NaN   \n",
       "\n",
       "         ag_002     ag_003      ag_004  ...      ee_002     ee_003  \\\n",
       "0      184552.0  2116260.0   8359268.0  ...   1450086.0   713608.0   \n",
       "1           0.0     4210.0    847684.0  ...  15655546.0  7961190.0   \n",
       "2      243092.0  2693264.0  10294678.0  ...   1392970.0   670836.0   \n",
       "3      300110.0  2063184.0   6215198.0  ...   1075284.0   748704.0   \n",
       "4           0.0    37938.0   2413744.0  ...  11849780.0  6078744.0   \n",
       "...         ...        ...         ...  ...         ...        ...   \n",
       "34997       0.0        0.0      7350.0  ...    336870.0   187466.0   \n",
       "34998       0.0        0.0        58.0  ...       492.0       16.0   \n",
       "34999       0.0        0.0      1094.0  ...    289008.0   150976.0   \n",
       "35000       0.0       24.0     45020.0  ...    404550.0   197372.0   \n",
       "35001       NaN        NaN         NaN  ...         NaN        NaN   \n",
       "\n",
       "           ee_004      ee_005      ee_006     ee_007     ee_008    ee_009  \\\n",
       "0       1750894.0   4054554.0   4096660.0  2295880.0   220478.0     482.0   \n",
       "1      15573746.0  13337708.0   9939694.0  6375252.0  6517696.0  180452.0   \n",
       "2       1622420.0   2006306.0   5831812.0  3198600.0    47068.0       0.0   \n",
       "3       1892554.0   2372806.0   3308370.0   176844.0     4860.0       0.0   \n",
       "4      11391988.0   9705102.0  10601346.0  5264516.0  6692608.0  634500.0   \n",
       "...           ...         ...         ...        ...        ...       ...   \n",
       "34997    402948.0    334876.0    238864.0   123876.0    69168.0     126.0   \n",
       "34998        46.0        18.0        18.0        0.0        0.0       0.0   \n",
       "34999    318968.0    206590.0    165736.0   136416.0   347438.0   22926.0   \n",
       "35000     50056.0     12084.0      4608.0     2236.0     2936.0       0.0   \n",
       "35001         NaN         NaN         NaN        NaN        NaN       NaN   \n",
       "\n",
       "       ef_000  eg_000  \n",
       "0         0.0     0.0  \n",
       "1         0.0     0.0  \n",
       "2         0.0     0.0  \n",
       "3         0.0     0.0  \n",
       "4         0.0     0.0  \n",
       "...       ...     ...  \n",
       "34997     0.0     0.0  \n",
       "34998     0.0     0.0  \n",
       "34999     0.0     0.0  \n",
       "35000     0.0     0.0  \n",
       "35001     NaN     NaN  \n",
       "\n",
       "[35002 rows x 163 columns]"
      ]
     },
     "execution_count": 35,
     "metadata": {},
     "output_type": "execute_result"
    }
   ],
   "source": [
    "X"
   ]
  },
  {
   "cell_type": "code",
   "execution_count": 36,
   "metadata": {},
   "outputs": [],
   "source": [
    "X= X[0:35001]"
   ]
  },
  {
   "cell_type": "code",
   "execution_count": 30,
   "metadata": {},
   "outputs": [],
   "source": [
    "y = y.replace({'pos':1,'neg':0})"
   ]
  },
  {
   "cell_type": "code",
   "execution_count": 37,
   "metadata": {},
   "outputs": [
    {
     "data": {
      "text/plain": [
       "1"
      ]
     },
     "execution_count": 37,
     "metadata": {},
     "output_type": "execute_result"
    }
   ],
   "source": [
    "y.isna().sum()"
   ]
  },
  {
   "cell_type": "code",
   "execution_count": 38,
   "metadata": {},
   "outputs": [],
   "source": [
    "y= y.dropna()"
   ]
  },
  {
   "cell_type": "code",
   "execution_count": 39,
   "metadata": {},
   "outputs": [
    {
     "data": {
      "text/plain": [
       "0"
      ]
     },
     "execution_count": 39,
     "metadata": {},
     "output_type": "execute_result"
    }
   ],
   "source": [
    "y.isna().sum()"
   ]
  },
  {
   "cell_type": "code",
   "execution_count": 40,
   "metadata": {},
   "outputs": [],
   "source": [
    "robustscaler = RobustScaler()\n",
    "X1 = robustscaler.fit_transform(X)"
   ]
  },
  {
   "cell_type": "code",
   "execution_count": 41,
   "metadata": {},
   "outputs": [
    {
     "name": "stderr",
     "output_type": "stream",
     "text": [
      "C:\\Users\\likit\\anaconda3\\lib\\site-packages\\sklearn\\linear_model\\_logistic.py:814: ConvergenceWarning: lbfgs failed to converge (status=1):\n",
      "STOP: TOTAL NO. of ITERATIONS REACHED LIMIT.\n",
      "\n",
      "Increase the number of iterations (max_iter) or scale the data as shown in:\n",
      "    https://scikit-learn.org/stable/modules/preprocessing.html\n",
      "Please also refer to the documentation for alternative solver options:\n",
      "    https://scikit-learn.org/stable/modules/linear_model.html#logistic-regression\n",
      "  n_iter_i = _check_optimize_result(\n",
      "C:\\Users\\likit\\anaconda3\\lib\\site-packages\\sklearn\\linear_model\\_logistic.py:814: ConvergenceWarning: lbfgs failed to converge (status=1):\n",
      "STOP: TOTAL NO. of ITERATIONS REACHED LIMIT.\n",
      "\n",
      "Increase the number of iterations (max_iter) or scale the data as shown in:\n",
      "    https://scikit-learn.org/stable/modules/preprocessing.html\n",
      "Please also refer to the documentation for alternative solver options:\n",
      "    https://scikit-learn.org/stable/modules/linear_model.html#logistic-regression\n",
      "  n_iter_i = _check_optimize_result(\n"
     ]
    },
    {
     "name": "stdout",
     "output_type": "stream",
     "text": [
      "1--->[0.67887549 0.73062857]\n"
     ]
    },
    {
     "name": "stderr",
     "output_type": "stream",
     "text": [
      "C:\\Users\\likit\\anaconda3\\lib\\site-packages\\sklearn\\linear_model\\_logistic.py:814: ConvergenceWarning: lbfgs failed to converge (status=1):\n",
      "STOP: TOTAL NO. of ITERATIONS REACHED LIMIT.\n",
      "\n",
      "Increase the number of iterations (max_iter) or scale the data as shown in:\n",
      "    https://scikit-learn.org/stable/modules/preprocessing.html\n",
      "Please also refer to the documentation for alternative solver options:\n",
      "    https://scikit-learn.org/stable/modules/linear_model.html#logistic-regression\n",
      "  n_iter_i = _check_optimize_result(\n",
      "C:\\Users\\likit\\anaconda3\\lib\\site-packages\\sklearn\\linear_model\\_logistic.py:814: ConvergenceWarning: lbfgs failed to converge (status=1):\n",
      "STOP: TOTAL NO. of ITERATIONS REACHED LIMIT.\n",
      "\n",
      "Increase the number of iterations (max_iter) or scale the data as shown in:\n",
      "    https://scikit-learn.org/stable/modules/preprocessing.html\n",
      "Please also refer to the documentation for alternative solver options:\n",
      "    https://scikit-learn.org/stable/modules/linear_model.html#logistic-regression\n",
      "  n_iter_i = _check_optimize_result(\n"
     ]
    },
    {
     "name": "stdout",
     "output_type": "stream",
     "text": [
      "3--->[0.69373179 0.70388571]\n"
     ]
    },
    {
     "name": "stderr",
     "output_type": "stream",
     "text": [
      "C:\\Users\\likit\\anaconda3\\lib\\site-packages\\sklearn\\linear_model\\_logistic.py:814: ConvergenceWarning: lbfgs failed to converge (status=1):\n",
      "STOP: TOTAL NO. of ITERATIONS REACHED LIMIT.\n",
      "\n",
      "Increase the number of iterations (max_iter) or scale the data as shown in:\n",
      "    https://scikit-learn.org/stable/modules/preprocessing.html\n",
      "Please also refer to the documentation for alternative solver options:\n",
      "    https://scikit-learn.org/stable/modules/linear_model.html#logistic-regression\n",
      "  n_iter_i = _check_optimize_result(\n",
      "C:\\Users\\likit\\anaconda3\\lib\\site-packages\\sklearn\\linear_model\\_logistic.py:814: ConvergenceWarning: lbfgs failed to converge (status=1):\n",
      "STOP: TOTAL NO. of ITERATIONS REACHED LIMIT.\n",
      "\n",
      "Increase the number of iterations (max_iter) or scale the data as shown in:\n",
      "    https://scikit-learn.org/stable/modules/preprocessing.html\n",
      "Please also refer to the documentation for alternative solver options:\n",
      "    https://scikit-learn.org/stable/modules/linear_model.html#logistic-regression\n",
      "  n_iter_i = _check_optimize_result(\n"
     ]
    },
    {
     "name": "stdout",
     "output_type": "stream",
     "text": [
      "5--->[0.7032741  0.69194286]\n"
     ]
    },
    {
     "name": "stderr",
     "output_type": "stream",
     "text": [
      "C:\\Users\\likit\\anaconda3\\lib\\site-packages\\sklearn\\linear_model\\_logistic.py:814: ConvergenceWarning: lbfgs failed to converge (status=1):\n",
      "STOP: TOTAL NO. of ITERATIONS REACHED LIMIT.\n",
      "\n",
      "Increase the number of iterations (max_iter) or scale the data as shown in:\n",
      "    https://scikit-learn.org/stable/modules/preprocessing.html\n",
      "Please also refer to the documentation for alternative solver options:\n",
      "    https://scikit-learn.org/stable/modules/linear_model.html#logistic-regression\n",
      "  n_iter_i = _check_optimize_result(\n",
      "C:\\Users\\likit\\anaconda3\\lib\\site-packages\\sklearn\\linear_model\\_logistic.py:814: ConvergenceWarning: lbfgs failed to converge (status=1):\n",
      "STOP: TOTAL NO. of ITERATIONS REACHED LIMIT.\n",
      "\n",
      "Increase the number of iterations (max_iter) or scale the data as shown in:\n",
      "    https://scikit-learn.org/stable/modules/preprocessing.html\n",
      "Please also refer to the documentation for alternative solver options:\n",
      "    https://scikit-learn.org/stable/modules/linear_model.html#logistic-regression\n",
      "  n_iter_i = _check_optimize_result(\n"
     ]
    },
    {
     "name": "stdout",
     "output_type": "stream",
     "text": [
      "7--->[0.69921719 0.682     ]\n"
     ]
    },
    {
     "name": "stderr",
     "output_type": "stream",
     "text": [
      "C:\\Users\\likit\\anaconda3\\lib\\site-packages\\sklearn\\linear_model\\_logistic.py:814: ConvergenceWarning: lbfgs failed to converge (status=1):\n",
      "STOP: TOTAL NO. of ITERATIONS REACHED LIMIT.\n",
      "\n",
      "Increase the number of iterations (max_iter) or scale the data as shown in:\n",
      "    https://scikit-learn.org/stable/modules/preprocessing.html\n",
      "Please also refer to the documentation for alternative solver options:\n",
      "    https://scikit-learn.org/stable/modules/linear_model.html#logistic-regression\n",
      "  n_iter_i = _check_optimize_result(\n",
      "C:\\Users\\likit\\anaconda3\\lib\\site-packages\\sklearn\\linear_model\\_logistic.py:814: ConvergenceWarning: lbfgs failed to converge (status=1):\n",
      "STOP: TOTAL NO. of ITERATIONS REACHED LIMIT.\n",
      "\n",
      "Increase the number of iterations (max_iter) or scale the data as shown in:\n",
      "    https://scikit-learn.org/stable/modules/preprocessing.html\n",
      "Please also refer to the documentation for alternative solver options:\n",
      "    https://scikit-learn.org/stable/modules/linear_model.html#logistic-regression\n",
      "  n_iter_i = _check_optimize_result(\n"
     ]
    },
    {
     "name": "stdout",
     "output_type": "stream",
     "text": [
      "9--->[0.7093309  0.73045714]\n"
     ]
    }
   ],
   "source": [
    "results = []\n",
    "imputer = KNNImputer(n_neighbors=5,weights='uniform',metric='nan_euclidean')\n",
    "strategies =[str(i) for i in [1,3,5,7,9]]\n",
    "for s in strategies:\n",
    "    pipeline = Pipeline(steps=[('i',KNNImputer(n_neighbors=int(s))),('m',LogisticRegression())])\n",
    "    scores = cross_val_score(pipeline,X1,y,scoring='accuracy',cv=2)\n",
    "    results.append(scores)\n",
    "    print(f\"{s}--->{scores}\")"
   ]
  },
  {
   "cell_type": "code",
   "execution_count": 61,
   "metadata": {},
   "outputs": [
    {
     "name": "stdout",
     "output_type": "stream",
     "text": [
      "1--->   Accuracy - 70.47520321287763\n",
      "3--->   Accuracy - 69.88087505203784\n",
      "5--->   Accuracy - 69.76084778828965\n",
      "7--->   Accuracy - 69.06085937946403\n",
      "9--->   Accuracy - 71.9894019117275\n"
     ]
    }
   ],
   "source": [
    "from statistics import mean\n",
    "for m, i in zip([1,3,5,7,9], results):\n",
    "    print(f\"{m}--->   Accuracy - {mean(i)*100}\")"
   ]
  },
  {
   "cell_type": "markdown",
   "metadata": {},
   "source": [
    "### **We can observe n_neighbors=9 able to produce highest accuracy**"
   ]
  },
  {
   "cell_type": "markdown",
   "metadata": {},
   "source": [
    "### Feature Engineering Basic Steps\n",
    "- 1st step ---- Filling the null values using Imputers(KNNImputer,Mean IMputer,Median Imputer,MICE)\n",
    "- 2nd step ---- Scaling the data and removing outliers(robust scaler)\n",
    "- 3rd step ---- Balancing the target column (SMOTEK)"
   ]
  },
  {
   "cell_type": "markdown",
   "metadata": {},
   "source": [
    "## Pipeline for KNN imputer"
   ]
  },
  {
   "cell_type": "code",
   "execution_count": 63,
   "metadata": {},
   "outputs": [],
   "source": [
    "knn_pipeline = Pipeline(\n",
    "steps=[\n",
    "    ('filling_null_values',KNNImputer(n_neighbors=9)),\n",
    "    ('scaling_and_removing_outliers',RobustScaler())\n",
    "])"
   ]
  },
  {
   "cell_type": "code",
   "execution_count": 64,
   "metadata": {},
   "outputs": [],
   "source": [
    "x_knn = knn_pipeline.fit_transform(X)"
   ]
  },
  {
   "cell_type": "code",
   "execution_count": 65,
   "metadata": {},
   "outputs": [
    {
     "name": "stdout",
     "output_type": "stream",
     "text": [
      "Collecting imblearn\n",
      "  Downloading imblearn-0.0-py2.py3-none-any.whl (1.9 kB)\n",
      "Collecting imbalanced-learn\n",
      "  Downloading imbalanced_learn-0.10.1-py3-none-any.whl (226 kB)\n",
      "     -------------------------------------- 226.0/226.0 kB 1.1 MB/s eta 0:00:00\n",
      "Requirement already satisfied: joblib>=1.1.1 in c:\\users\\likit\\anaconda3\\lib\\site-packages (from imbalanced-learn->imblearn) (1.1.1)\n",
      "Requirement already satisfied: scikit-learn>=1.0.2 in c:\\users\\likit\\anaconda3\\lib\\site-packages (from imbalanced-learn->imblearn) (1.0.2)\n",
      "Requirement already satisfied: threadpoolctl>=2.0.0 in c:\\users\\likit\\anaconda3\\lib\\site-packages (from imbalanced-learn->imblearn) (2.2.0)\n",
      "Requirement already satisfied: scipy>=1.3.2 in c:\\users\\likit\\anaconda3\\lib\\site-packages (from imbalanced-learn->imblearn) (1.9.3)\n",
      "Requirement already satisfied: numpy>=1.17.3 in c:\\users\\likit\\anaconda3\\lib\\site-packages (from imbalanced-learn->imblearn) (1.21.5)\n",
      "Installing collected packages: imbalanced-learn, imblearn\n",
      "Successfully installed imbalanced-learn-0.10.1 imblearn-0.0\n"
     ]
    },
    {
     "name": "stderr",
     "output_type": "stream",
     "text": [
      "\n",
      "[notice] A new release of pip available: 22.3.1 -> 23.1.2\n",
      "[notice] To update, run: python.exe -m pip install --upgrade pip\n"
     ]
    }
   ],
   "source": [
    "!pip install imblearn"
   ]
  },
  {
   "cell_type": "code",
   "execution_count": 68,
   "metadata": {},
   "outputs": [],
   "source": [
    "from imblearn.combine import SMOTETomek"
   ]
  },
  {
   "cell_type": "code",
   "execution_count": 69,
   "metadata": {},
   "outputs": [],
   "source": [
    "smt = SMOTETomek(random_state=43,sampling_strategy='minority')\n",
    "X_res,y_res =smt.fit_resample(x_knn,y)"
   ]
  },
  {
   "cell_type": "code",
   "execution_count": 72,
   "metadata": {},
   "outputs": [
    {
     "name": "stdout",
     "output_type": "stream",
     "text": [
      "RandomForestClassifier()\n",
      "Model Name -  Random Forest\n",
      "-----------Model performance for training set-----------\n",
      "Accuracy------------>1.0\n",
      "F1 score------------>1.0\n",
      "Precesion----------->1.0\n",
      "Recall-------------->1.0\n",
      "Roc Auc Score------->1.0\n",
      "-----------Model performance for test set---------------\n",
      "Accuracy------------>0.991451479778328\n",
      "F1 score------------>0.9915751554238567\n",
      "Precesion----------->0.9884165411791961\n",
      "Recall-------------->0.9947540219165306\n",
      "Roc Auc Score------->0.9914132705002501\n",
      "\n",
      "\n",
      "DecisionTreeClassifier()\n",
      "Model Name -  Decision Tree\n",
      "-----------Model performance for training set-----------\n",
      "Accuracy------------>1.0\n",
      "F1 score------------>1.0\n",
      "Precesion----------->1.0\n",
      "Recall-------------->1.0\n",
      "Roc Auc Score------->1.0\n",
      "-----------Model performance for test set---------------\n",
      "Accuracy------------>0.9845537082891168\n",
      "F1 score------------>0.9847886669763121\n",
      "Precesion----------->0.9809160305343512\n",
      "Recall-------------->0.988692002797855\n",
      "Roc Auc Score------->0.9845058296432022\n",
      "\n",
      "\n",
      "GradientBoostingClassifier()\n",
      "Model Name -  Gradient Boosting\n",
      "-----------Model performance for training set-----------\n",
      "Accuracy------------>0.983275685873752\n",
      "F1 score------------>0.9832661488545866\n",
      "Precesion----------->0.9800862406899256\n",
      "Recall-------------->0.9864667587295325\n",
      "Roc Auc Score------->0.9832878059280616\n",
      "-----------Model performance for test set---------------\n",
      "Accuracy------------>0.9812522108241952\n",
      "F1 score------------>0.9815352456160725\n",
      "Precesion----------->0.977788061082832\n",
      "Recall-------------->0.9853112613662859\n",
      "Roc Auc Score------->0.9812052490037535\n",
      "\n",
      "\n",
      "LogisticRegression()\n"
     ]
    },
    {
     "name": "stderr",
     "output_type": "stream",
     "text": [
      "C:\\Users\\likit\\anaconda3\\lib\\site-packages\\sklearn\\linear_model\\_logistic.py:814: ConvergenceWarning: lbfgs failed to converge (status=1):\n",
      "STOP: TOTAL NO. of ITERATIONS REACHED LIMIT.\n",
      "\n",
      "Increase the number of iterations (max_iter) or scale the data as shown in:\n",
      "    https://scikit-learn.org/stable/modules/preprocessing.html\n",
      "Please also refer to the documentation for alternative solver options:\n",
      "    https://scikit-learn.org/stable/modules/linear_model.html#logistic-regression\n",
      "  n_iter_i = _check_optimize_result(\n"
     ]
    },
    {
     "name": "stdout",
     "output_type": "stream",
     "text": [
      "Model Name -  Logistic Regression\n",
      "-----------Model performance for training set-----------\n",
      "Accuracy------------>0.627132300919739\n",
      "F1 score------------>0.7189393378268276\n",
      "Precesion----------->0.5755692599620493\n",
      "Recall-------------->0.9574275004931939\n",
      "Roc Auc Score------->0.6283867993088156\n",
      "-----------Model performance for test set---------------\n",
      "Accuracy------------>0.6340054238886924\n",
      "F1 score------------>0.7261337568378332\n",
      "Precesion----------->0.5841022001419447\n",
      "Recall-------------->0.9594311028211704\n",
      "Roc Auc Score------->0.6302403605708906\n",
      "\n",
      "\n",
      "KNeighborsClassifier()\n"
     ]
    },
    {
     "name": "stderr",
     "output_type": "stream",
     "text": [
      "C:\\Users\\likit\\anaconda3\\lib\\site-packages\\sklearn\\neighbors\\_classification.py:228: FutureWarning: Unlike other reduction functions (e.g. `skew`, `kurtosis`), the default behavior of `mode` typically preserves the axis it acts along. In SciPy 1.11.0, this behavior will change: the default value of `keepdims` will become False, the `axis` over which the statistic is taken will be eliminated, and the value None will no longer be accepted. Set `keepdims` to True or False to avoid this warning.\n",
      "  mode, _ = stats.mode(_y[neigh_ind, k], axis=1)\n",
      "C:\\Users\\likit\\anaconda3\\lib\\site-packages\\sklearn\\neighbors\\_classification.py:228: FutureWarning: Unlike other reduction functions (e.g. `skew`, `kurtosis`), the default behavior of `mode` typically preserves the axis it acts along. In SciPy 1.11.0, this behavior will change: the default value of `keepdims` will become False, the `axis` over which the statistic is taken will be eliminated, and the value None will no longer be accepted. Set `keepdims` to True or False to avoid this warning.\n",
      "  mode, _ = stats.mode(_y[neigh_ind, k], axis=1)\n"
     ]
    },
    {
     "name": "stdout",
     "output_type": "stream",
     "text": [
      "Model Name -  K-Neighbors Classifier\n",
      "-----------Model performance for training set-----------\n",
      "Accuracy------------>0.9814086942850405\n",
      "F1 score------------>0.9815393021622044\n",
      "Precesion----------->0.9710413529479903\n",
      "Recall-------------->0.9922667192740185\n",
      "Roc Auc Score------->0.9814499342875437\n",
      "-----------Model performance for test set---------------\n",
      "Accuracy------------>0.9734701096568801\n",
      "F1 score------------>0.9741587228666589\n",
      "Precesion----------->0.9599366229062924\n",
      "Recall-------------->0.9888085800885987\n",
      "Roc Auc Score------->0.9732926488229252\n",
      "\n",
      "\n",
      "AdaBoostClassifier()\n",
      "Model Name -  AdaBoost Classifier\n",
      "-----------Model performance for training set-----------\n",
      "Accuracy------------>0.9735869821554909\n",
      "F1 score------------>0.9735193285258306\n",
      "Precesion----------->0.9722932819079854\n",
      "Recall-------------->0.9747484710988361\n",
      "Roc Auc Score------->0.9735913936213865\n",
      "-----------Model performance for test set---------------\n",
      "Accuracy------------>0.9711708524938097\n",
      "F1 score------------>0.9715051570421305\n",
      "Precesion----------->0.9712221833857626\n",
      "Recall-------------->0.9717882956400093\n",
      "Roc Auc Score------->0.971163708888707\n",
      "\n",
      "\n"
     ]
    }
   ],
   "source": [
    "knn_report = evaluate(X_res,y_res,models)"
   ]
  },
  {
   "cell_type": "code",
   "execution_count": null,
   "metadata": {},
   "outputs": [],
   "source": []
  }
 ],
 "metadata": {
  "kernelspec": {
   "display_name": "Python 3 (ipykernel)",
   "language": "python",
   "name": "python3"
  },
  "language_info": {
   "codemirror_mode": {
    "name": "ipython",
    "version": 3
   },
   "file_extension": ".py",
   "mimetype": "text/x-python",
   "name": "python",
   "nbconvert_exporter": "python",
   "pygments_lexer": "ipython3",
   "version": "3.9.15"
  }
 },
 "nbformat": 4,
 "nbformat_minor": 2
}
