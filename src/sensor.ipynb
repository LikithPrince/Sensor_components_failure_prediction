{
 "cells": [
  {
   "cell_type": "code",
   "execution_count": 1,
   "metadata": {},
   "outputs": [],
   "source": [
    "import numpy as np\n",
    "import pandas as pd\n",
    "import matplotlib.pyplot as plt\n",
    "import seaborn as sns"
   ]
  },
  {
   "cell_type": "code",
   "execution_count": 2,
   "metadata": {},
   "outputs": [
    {
     "data": {
      "text/html": [
       "<div>\n",
       "<style scoped>\n",
       "    .dataframe tbody tr th:only-of-type {\n",
       "        vertical-align: middle;\n",
       "    }\n",
       "\n",
       "    .dataframe tbody tr th {\n",
       "        vertical-align: top;\n",
       "    }\n",
       "\n",
       "    .dataframe thead th {\n",
       "        text-align: right;\n",
       "    }\n",
       "</style>\n",
       "<table border=\"1\" class=\"dataframe\">\n",
       "  <thead>\n",
       "    <tr style=\"text-align: right;\">\n",
       "      <th></th>\n",
       "      <th>aa_000</th>\n",
       "      <th>ab_000</th>\n",
       "      <th>ac_000</th>\n",
       "      <th>ad_000</th>\n",
       "      <th>ae_000</th>\n",
       "      <th>af_000</th>\n",
       "      <th>ag_000</th>\n",
       "      <th>ag_001</th>\n",
       "      <th>ag_002</th>\n",
       "      <th>ag_003</th>\n",
       "      <th>...</th>\n",
       "      <th>ee_002</th>\n",
       "      <th>ee_003</th>\n",
       "      <th>ee_004</th>\n",
       "      <th>ee_005</th>\n",
       "      <th>ee_006</th>\n",
       "      <th>ee_007</th>\n",
       "      <th>ee_008</th>\n",
       "      <th>ee_009</th>\n",
       "      <th>ef_000</th>\n",
       "      <th>eg_000</th>\n",
       "    </tr>\n",
       "  </thead>\n",
       "  <tbody>\n",
       "    <tr>\n",
       "      <th>0</th>\n",
       "      <td>1056758.0</td>\n",
       "      <td>0.0</td>\n",
       "      <td>42328.0</td>\n",
       "      <td>856.0</td>\n",
       "      <td>0.0</td>\n",
       "      <td>0.0</td>\n",
       "      <td>0.0</td>\n",
       "      <td>50394.0</td>\n",
       "      <td>184552.0</td>\n",
       "      <td>2116260.0</td>\n",
       "      <td>...</td>\n",
       "      <td>1450086.0</td>\n",
       "      <td>713608.0</td>\n",
       "      <td>1750894.0</td>\n",
       "      <td>4054554.0</td>\n",
       "      <td>4096660.0</td>\n",
       "      <td>2295880.0</td>\n",
       "      <td>220478.0</td>\n",
       "      <td>482.0</td>\n",
       "      <td>0.0</td>\n",
       "      <td>0.0</td>\n",
       "    </tr>\n",
       "    <tr>\n",
       "      <th>1</th>\n",
       "      <td>1665858.0</td>\n",
       "      <td>NaN</td>\n",
       "      <td>NaN</td>\n",
       "      <td>NaN</td>\n",
       "      <td>0.0</td>\n",
       "      <td>0.0</td>\n",
       "      <td>0.0</td>\n",
       "      <td>0.0</td>\n",
       "      <td>0.0</td>\n",
       "      <td>4210.0</td>\n",
       "      <td>...</td>\n",
       "      <td>15655546.0</td>\n",
       "      <td>7961190.0</td>\n",
       "      <td>15573746.0</td>\n",
       "      <td>13337708.0</td>\n",
       "      <td>9939694.0</td>\n",
       "      <td>6375252.0</td>\n",
       "      <td>6517696.0</td>\n",
       "      <td>180452.0</td>\n",
       "      <td>0.0</td>\n",
       "      <td>0.0</td>\n",
       "    </tr>\n",
       "    <tr>\n",
       "      <th>2</th>\n",
       "      <td>341116.0</td>\n",
       "      <td>NaN</td>\n",
       "      <td>730.0</td>\n",
       "      <td>NaN</td>\n",
       "      <td>0.0</td>\n",
       "      <td>0.0</td>\n",
       "      <td>0.0</td>\n",
       "      <td>6782.0</td>\n",
       "      <td>243092.0</td>\n",
       "      <td>2693264.0</td>\n",
       "      <td>...</td>\n",
       "      <td>1392970.0</td>\n",
       "      <td>670836.0</td>\n",
       "      <td>1622420.0</td>\n",
       "      <td>2006306.0</td>\n",
       "      <td>5831812.0</td>\n",
       "      <td>3198600.0</td>\n",
       "      <td>47068.0</td>\n",
       "      <td>0.0</td>\n",
       "      <td>0.0</td>\n",
       "      <td>0.0</td>\n",
       "    </tr>\n",
       "    <tr>\n",
       "      <th>3</th>\n",
       "      <td>207292.0</td>\n",
       "      <td>NaN</td>\n",
       "      <td>3418.0</td>\n",
       "      <td>NaN</td>\n",
       "      <td>0.0</td>\n",
       "      <td>0.0</td>\n",
       "      <td>0.0</td>\n",
       "      <td>34086.0</td>\n",
       "      <td>300110.0</td>\n",
       "      <td>2063184.0</td>\n",
       "      <td>...</td>\n",
       "      <td>1075284.0</td>\n",
       "      <td>748704.0</td>\n",
       "      <td>1892554.0</td>\n",
       "      <td>2372806.0</td>\n",
       "      <td>3308370.0</td>\n",
       "      <td>176844.0</td>\n",
       "      <td>4860.0</td>\n",
       "      <td>0.0</td>\n",
       "      <td>0.0</td>\n",
       "      <td>0.0</td>\n",
       "    </tr>\n",
       "    <tr>\n",
       "      <th>4</th>\n",
       "      <td>1386134.0</td>\n",
       "      <td>NaN</td>\n",
       "      <td>0.0</td>\n",
       "      <td>NaN</td>\n",
       "      <td>0.0</td>\n",
       "      <td>0.0</td>\n",
       "      <td>0.0</td>\n",
       "      <td>0.0</td>\n",
       "      <td>0.0</td>\n",
       "      <td>37938.0</td>\n",
       "      <td>...</td>\n",
       "      <td>11849780.0</td>\n",
       "      <td>6078744.0</td>\n",
       "      <td>11391988.0</td>\n",
       "      <td>9705102.0</td>\n",
       "      <td>10601346.0</td>\n",
       "      <td>5264516.0</td>\n",
       "      <td>6692608.0</td>\n",
       "      <td>634500.0</td>\n",
       "      <td>0.0</td>\n",
       "      <td>0.0</td>\n",
       "    </tr>\n",
       "  </tbody>\n",
       "</table>\n",
       "<p>5 rows × 171 columns</p>\n",
       "</div>"
      ],
      "text/plain": [
       "      aa_000  ab_000   ac_000  ad_000  ae_000  af_000  ag_000   ag_001  \\\n",
       "0  1056758.0     0.0  42328.0   856.0     0.0     0.0     0.0  50394.0   \n",
       "1  1665858.0     NaN      NaN     NaN     0.0     0.0     0.0      0.0   \n",
       "2   341116.0     NaN    730.0     NaN     0.0     0.0     0.0   6782.0   \n",
       "3   207292.0     NaN   3418.0     NaN     0.0     0.0     0.0  34086.0   \n",
       "4  1386134.0     NaN      0.0     NaN     0.0     0.0     0.0      0.0   \n",
       "\n",
       "     ag_002     ag_003  ...      ee_002     ee_003      ee_004      ee_005  \\\n",
       "0  184552.0  2116260.0  ...   1450086.0   713608.0   1750894.0   4054554.0   \n",
       "1       0.0     4210.0  ...  15655546.0  7961190.0  15573746.0  13337708.0   \n",
       "2  243092.0  2693264.0  ...   1392970.0   670836.0   1622420.0   2006306.0   \n",
       "3  300110.0  2063184.0  ...   1075284.0   748704.0   1892554.0   2372806.0   \n",
       "4       0.0    37938.0  ...  11849780.0  6078744.0  11391988.0   9705102.0   \n",
       "\n",
       "       ee_006     ee_007     ee_008    ee_009  ef_000  eg_000  \n",
       "0   4096660.0  2295880.0   220478.0     482.0     0.0     0.0  \n",
       "1   9939694.0  6375252.0  6517696.0  180452.0     0.0     0.0  \n",
       "2   5831812.0  3198600.0    47068.0       0.0     0.0     0.0  \n",
       "3   3308370.0   176844.0     4860.0       0.0     0.0     0.0  \n",
       "4  10601346.0  5264516.0  6692608.0  634500.0     0.0     0.0  \n",
       "\n",
       "[5 rows x 171 columns]"
      ]
     },
     "execution_count": 2,
     "metadata": {},
     "output_type": "execute_result"
    }
   ],
   "source": [
    "df = pd.read_csv('../data/sensor.csv', na_values='na')\n",
    "df.head()"
   ]
  },
  {
   "cell_type": "code",
   "execution_count": 3,
   "metadata": {},
   "outputs": [
    {
     "name": "stdout",
     "output_type": "stream",
     "text": [
      "<class 'pandas.core.frame.DataFrame'>\n",
      "RangeIndex: 35002 entries, 0 to 35001\n",
      "Columns: 171 entries, aa_000 to eg_000\n",
      "dtypes: float64(170), object(1)\n",
      "memory usage: 45.7+ MB\n"
     ]
    }
   ],
   "source": [
    "df.info()"
   ]
  },
  {
   "cell_type": "code",
   "execution_count": 4,
   "metadata": {},
   "outputs": [],
   "source": [
    "input_columns = [col for col in df.columns if df[col].dtype != 'O']\n",
    "target_columns = [col for col in df.columns if df[col].dtype == 'O']"
   ]
  },
  {
   "cell_type": "code",
   "execution_count": 5,
   "metadata": {},
   "outputs": [
    {
     "data": {
      "text/plain": [
       "['aa_000',\n",
       " 'ab_000',\n",
       " 'ac_000',\n",
       " 'ad_000',\n",
       " 'ae_000',\n",
       " 'af_000',\n",
       " 'ag_000',\n",
       " 'ag_001',\n",
       " 'ag_002',\n",
       " 'ag_003',\n",
       " 'ag_004',\n",
       " 'ag_005',\n",
       " 'ag_006',\n",
       " 'ag_007',\n",
       " 'ag_008',\n",
       " 'ag_009',\n",
       " 'ah_000',\n",
       " 'ai_000',\n",
       " 'aj_000',\n",
       " 'ak_000',\n",
       " 'al_000',\n",
       " 'am_0',\n",
       " 'an_000',\n",
       " 'ao_000',\n",
       " 'ap_000',\n",
       " 'aq_000',\n",
       " 'ar_000',\n",
       " 'as_000',\n",
       " 'at_000',\n",
       " 'au_000',\n",
       " 'av_000',\n",
       " 'ax_000',\n",
       " 'ay_000',\n",
       " 'ay_001',\n",
       " 'ay_002',\n",
       " 'ay_003',\n",
       " 'ay_004',\n",
       " 'ay_005',\n",
       " 'ay_006',\n",
       " 'ay_007',\n",
       " 'ay_008',\n",
       " 'ay_009',\n",
       " 'az_000',\n",
       " 'az_001',\n",
       " 'az_002',\n",
       " 'az_003',\n",
       " 'az_004',\n",
       " 'az_005',\n",
       " 'az_006',\n",
       " 'az_007',\n",
       " 'az_008',\n",
       " 'az_009',\n",
       " 'ba_000',\n",
       " 'ba_001',\n",
       " 'ba_002',\n",
       " 'ba_003',\n",
       " 'ba_004',\n",
       " 'ba_005',\n",
       " 'ba_006',\n",
       " 'ba_007',\n",
       " 'ba_008',\n",
       " 'ba_009',\n",
       " 'bb_000',\n",
       " 'bc_000',\n",
       " 'bd_000',\n",
       " 'be_000',\n",
       " 'bf_000',\n",
       " 'bg_000',\n",
       " 'bh_000',\n",
       " 'bi_000',\n",
       " 'bj_000',\n",
       " 'bk_000',\n",
       " 'bl_000',\n",
       " 'bm_000',\n",
       " 'bn_000',\n",
       " 'bo_000',\n",
       " 'bp_000',\n",
       " 'bq_000',\n",
       " 'br_000',\n",
       " 'bs_000',\n",
       " 'bt_000',\n",
       " 'bu_000',\n",
       " 'bv_000',\n",
       " 'bx_000',\n",
       " 'by_000',\n",
       " 'bz_000',\n",
       " 'ca_000',\n",
       " 'cb_000',\n",
       " 'cc_000',\n",
       " 'cd_000',\n",
       " 'ce_000',\n",
       " 'cf_000',\n",
       " 'cg_000',\n",
       " 'ch_000',\n",
       " 'ci_000',\n",
       " 'cj_000',\n",
       " 'ck_000',\n",
       " 'cl_000',\n",
       " 'cm_000',\n",
       " 'cn_000',\n",
       " 'cn_001',\n",
       " 'cn_002',\n",
       " 'cn_003',\n",
       " 'cn_004',\n",
       " 'cn_005',\n",
       " 'cn_006',\n",
       " 'cn_007',\n",
       " 'cn_008',\n",
       " 'cn_009',\n",
       " 'co_000',\n",
       " 'cp_000',\n",
       " 'cq_000',\n",
       " 'cr_000',\n",
       " 'cs_000',\n",
       " 'cs_001',\n",
       " 'cs_002',\n",
       " 'cs_003',\n",
       " 'cs_004',\n",
       " 'cs_005',\n",
       " 'cs_006',\n",
       " 'cs_007',\n",
       " 'cs_008',\n",
       " 'cs_009',\n",
       " 'ct_000',\n",
       " 'cu_000',\n",
       " 'cv_000',\n",
       " 'cx_000',\n",
       " 'cy_000',\n",
       " 'cz_000',\n",
       " 'da_000',\n",
       " 'db_000',\n",
       " 'dc_000',\n",
       " 'dd_000',\n",
       " 'de_000',\n",
       " 'df_000',\n",
       " 'dg_000',\n",
       " 'dh_000',\n",
       " 'di_000',\n",
       " 'dj_000',\n",
       " 'dk_000',\n",
       " 'dl_000',\n",
       " 'dm_000',\n",
       " 'dn_000',\n",
       " 'do_000',\n",
       " 'dp_000',\n",
       " 'dq_000',\n",
       " 'dr_000',\n",
       " 'ds_000',\n",
       " 'dt_000',\n",
       " 'du_000',\n",
       " 'dv_000',\n",
       " 'dx_000',\n",
       " 'dy_000',\n",
       " 'dz_000',\n",
       " 'ea_000',\n",
       " 'eb_000',\n",
       " 'ec_00',\n",
       " 'ed_000',\n",
       " 'ee_000',\n",
       " 'ee_001',\n",
       " 'ee_002',\n",
       " 'ee_003',\n",
       " 'ee_004',\n",
       " 'ee_005',\n",
       " 'ee_006',\n",
       " 'ee_007',\n",
       " 'ee_008',\n",
       " 'ee_009',\n",
       " 'ef_000',\n",
       " 'eg_000']"
      ]
     },
     "execution_count": 5,
     "metadata": {},
     "output_type": "execute_result"
    }
   ],
   "source": [
    "input_columns"
   ]
  },
  {
   "cell_type": "code",
   "execution_count": 6,
   "metadata": {},
   "outputs": [
    {
     "data": {
      "text/plain": [
       "['class']"
      ]
     },
     "execution_count": 6,
     "metadata": {},
     "output_type": "execute_result"
    }
   ],
   "source": [
    "target_columns"
   ]
  },
  {
   "cell_type": "code",
   "execution_count": 7,
   "metadata": {},
   "outputs": [
    {
     "data": {
      "text/plain": [
       "class\n",
       "neg      34020\n",
       "pos        981\n",
       "dtype: int64"
      ]
     },
     "execution_count": 7,
     "metadata": {},
     "output_type": "execute_result"
    }
   ],
   "source": [
    "# checking the imbalance of target column\n",
    "df[target_columns].value_counts()"
   ]
  },
  {
   "cell_type": "code",
   "execution_count": 8,
   "metadata": {},
   "outputs": [
    {
     "data": {
      "text/plain": [
       "<AxesSubplot: xlabel='class'>"
      ]
     },
     "execution_count": 8,
     "metadata": {},
     "output_type": "execute_result"
    },
    {
     "data": {
      "image/png": "[encoded data removed]",
      "text/plain": [
       "<Figure size 432x288 with 1 Axes>"
      ]
     },
     "metadata": {
      "needs_background": "light"
     },
     "output_type": "display_data"
    }
   ],
   "source": [
    "df[target_columns].value_counts().plot(kind= 'bar') # this is a biased dataset"
   ]
  },
  {
   "cell_type": "code",
   "execution_count": 9,
   "metadata": {},
   "outputs": [
    {
     "data": {
      "text/plain": [
       "aa_000        1\n",
       "ab_000    26995\n",
       "ac_000     2083\n",
       "ad_000     8921\n",
       "ae_000     1543\n",
       "          ...  \n",
       "ee_007      369\n",
       "ee_008      369\n",
       "ee_009      369\n",
       "ef_000     1685\n",
       "eg_000     1684\n",
       "Length: 171, dtype: int64"
      ]
     },
     "execution_count": 9,
     "metadata": {},
     "output_type": "execute_result"
    }
   ],
   "source": [
    "# checking missing values\n",
    "\n",
    "df.isna().sum()"
   ]
  },
  {
   "cell_type": "code",
   "execution_count": 10,
   "metadata": {},
   "outputs": [
    {
     "data": {
      "text/html": [
       "<div>\n",
       "<style scoped>\n",
       "    .dataframe tbody tr th:only-of-type {\n",
       "        vertical-align: middle;\n",
       "    }\n",
       "\n",
       "    .dataframe tbody tr th {\n",
       "        vertical-align: top;\n",
       "    }\n",
       "\n",
       "    .dataframe thead th {\n",
       "        text-align: right;\n",
       "    }\n",
       "</style>\n",
       "<table border=\"1\" class=\"dataframe\">\n",
       "  <thead>\n",
       "    <tr style=\"text-align: right;\">\n",
       "      <th></th>\n",
       "      <th>index</th>\n",
       "      <th>0</th>\n",
       "    </tr>\n",
       "  </thead>\n",
       "  <tbody>\n",
       "    <tr>\n",
       "      <th>0</th>\n",
       "      <td>aa_000</td>\n",
       "      <td>0.003</td>\n",
       "    </tr>\n",
       "    <tr>\n",
       "      <th>1</th>\n",
       "      <td>ab_000</td>\n",
       "      <td>77.124</td>\n",
       "    </tr>\n",
       "    <tr>\n",
       "      <th>2</th>\n",
       "      <td>ac_000</td>\n",
       "      <td>5.951</td>\n",
       "    </tr>\n",
       "    <tr>\n",
       "      <th>3</th>\n",
       "      <td>ad_000</td>\n",
       "      <td>25.487</td>\n",
       "    </tr>\n",
       "    <tr>\n",
       "      <th>4</th>\n",
       "      <td>ae_000</td>\n",
       "      <td>4.408</td>\n",
       "    </tr>\n",
       "    <tr>\n",
       "      <th>...</th>\n",
       "      <td>...</td>\n",
       "      <td>...</td>\n",
       "    </tr>\n",
       "    <tr>\n",
       "      <th>166</th>\n",
       "      <td>ee_007</td>\n",
       "      <td>1.054</td>\n",
       "    </tr>\n",
       "    <tr>\n",
       "      <th>167</th>\n",
       "      <td>ee_008</td>\n",
       "      <td>1.054</td>\n",
       "    </tr>\n",
       "    <tr>\n",
       "      <th>168</th>\n",
       "      <td>ee_009</td>\n",
       "      <td>1.054</td>\n",
       "    </tr>\n",
       "    <tr>\n",
       "      <th>169</th>\n",
       "      <td>ef_000</td>\n",
       "      <td>4.814</td>\n",
       "    </tr>\n",
       "    <tr>\n",
       "      <th>170</th>\n",
       "      <td>eg_000</td>\n",
       "      <td>4.811</td>\n",
       "    </tr>\n",
       "  </tbody>\n",
       "</table>\n",
       "<p>171 rows × 2 columns</p>\n",
       "</div>"
      ],
      "text/plain": [
       "      index       0\n",
       "0    aa_000   0.003\n",
       "1    ab_000  77.124\n",
       "2    ac_000   5.951\n",
       "3    ad_000  25.487\n",
       "4    ae_000   4.408\n",
       "..      ...     ...\n",
       "166  ee_007   1.054\n",
       "167  ee_008   1.054\n",
       "168  ee_009   1.054\n",
       "169  ef_000   4.814\n",
       "170  eg_000   4.811\n",
       "\n",
       "[171 rows x 2 columns]"
      ]
     },
     "execution_count": 10,
     "metadata": {},
     "output_type": "execute_result"
    }
   ],
   "source": [
    "round(df.isna().sum().div(df.shape[0]).mul(100),3).to_frame().reset_index()"
   ]
  },
  {
   "cell_type": "code",
   "execution_count": 11,
   "metadata": {},
   "outputs": [
    {
     "data": {
      "text/html": [
       "<div>\n",
       "<style scoped>\n",
       "    .dataframe tbody tr th:only-of-type {\n",
       "        vertical-align: middle;\n",
       "    }\n",
       "\n",
       "    .dataframe tbody tr th {\n",
       "        vertical-align: top;\n",
       "    }\n",
       "\n",
       "    .dataframe thead th {\n",
       "        text-align: right;\n",
       "    }\n",
       "</style>\n",
       "<table border=\"1\" class=\"dataframe\">\n",
       "  <thead>\n",
       "    <tr style=\"text-align: right;\">\n",
       "      <th></th>\n",
       "      <th>index</th>\n",
       "      <th>0</th>\n",
       "    </tr>\n",
       "  </thead>\n",
       "  <tbody>\n",
       "    <tr>\n",
       "      <th>78</th>\n",
       "      <td>br_000</td>\n",
       "      <td>81.350</td>\n",
       "    </tr>\n",
       "    <tr>\n",
       "      <th>77</th>\n",
       "      <td>bq_000</td>\n",
       "      <td>80.438</td>\n",
       "    </tr>\n",
       "    <tr>\n",
       "      <th>76</th>\n",
       "      <td>bp_000</td>\n",
       "      <td>78.713</td>\n",
       "    </tr>\n",
       "    <tr>\n",
       "      <th>113</th>\n",
       "      <td>cr_000</td>\n",
       "      <td>77.124</td>\n",
       "    </tr>\n",
       "    <tr>\n",
       "      <th>1</th>\n",
       "      <td>ab_000</td>\n",
       "      <td>77.124</td>\n",
       "    </tr>\n",
       "    <tr>\n",
       "      <th>...</th>\n",
       "      <td>...</td>\n",
       "      <td>...</td>\n",
       "    </tr>\n",
       "    <tr>\n",
       "      <th>95</th>\n",
       "      <td>cj_000</td>\n",
       "      <td>0.569</td>\n",
       "    </tr>\n",
       "    <tr>\n",
       "      <th>94</th>\n",
       "      <td>ci_000</td>\n",
       "      <td>0.569</td>\n",
       "    </tr>\n",
       "    <tr>\n",
       "      <th>80</th>\n",
       "      <td>bt_000</td>\n",
       "      <td>0.240</td>\n",
       "    </tr>\n",
       "    <tr>\n",
       "      <th>98</th>\n",
       "      <td>class</td>\n",
       "      <td>0.003</td>\n",
       "    </tr>\n",
       "    <tr>\n",
       "      <th>0</th>\n",
       "      <td>aa_000</td>\n",
       "      <td>0.003</td>\n",
       "    </tr>\n",
       "  </tbody>\n",
       "</table>\n",
       "<p>171 rows × 2 columns</p>\n",
       "</div>"
      ],
      "text/plain": [
       "      index       0\n",
       "78   br_000  81.350\n",
       "77   bq_000  80.438\n",
       "76   bp_000  78.713\n",
       "113  cr_000  77.124\n",
       "1    ab_000  77.124\n",
       "..      ...     ...\n",
       "95   cj_000   0.569\n",
       "94   ci_000   0.569\n",
       "80   bt_000   0.240\n",
       "98    class   0.003\n",
       "0    aa_000   0.003\n",
       "\n",
       "[171 rows x 2 columns]"
      ]
     },
     "execution_count": 11,
     "metadata": {},
     "output_type": "execute_result"
    }
   ],
   "source": [
    "perc_null_df = (round(df.isna().sum().div(df.shape[0]).mul(100),3)).to_frame().reset_index().sort_values(by=[0], ascending=False)\n",
    "perc_null_df"
   ]
  },
  {
   "cell_type": "code",
   "execution_count": 12,
   "metadata": {},
   "outputs": [],
   "source": [
    "perc_null_df.rename(columns={'index':'col_name',0:'Perc_nul_val'}, inplace=True)"
   ]
  },
  {
   "cell_type": "code",
   "execution_count": 13,
   "metadata": {},
   "outputs": [
    {
     "data": {
      "text/plain": [
       "Index(['col_name', 'Perc_nul_val'], dtype='object')"
      ]
     },
     "execution_count": 13,
     "metadata": {},
     "output_type": "execute_result"
    }
   ],
   "source": [
    "perc_null_df.columns"
   ]
  },
  {
   "cell_type": "code",
   "execution_count": 14,
   "metadata": {},
   "outputs": [
    {
     "data": {
      "text/html": [
       "<div>\n",
       "<style scoped>\n",
       "    .dataframe tbody tr th:only-of-type {\n",
       "        vertical-align: middle;\n",
       "    }\n",
       "\n",
       "    .dataframe tbody tr th {\n",
       "        vertical-align: top;\n",
       "    }\n",
       "\n",
       "    .dataframe thead th {\n",
       "        text-align: right;\n",
       "    }\n",
       "</style>\n",
       "<table border=\"1\" class=\"dataframe\">\n",
       "  <thead>\n",
       "    <tr style=\"text-align: right;\">\n",
       "      <th></th>\n",
       "      <th>col_name</th>\n",
       "      <th>Perc_nul_val</th>\n",
       "    </tr>\n",
       "  </thead>\n",
       "  <tbody>\n",
       "    <tr>\n",
       "      <th>78</th>\n",
       "      <td>br_000</td>\n",
       "      <td>81.350</td>\n",
       "    </tr>\n",
       "    <tr>\n",
       "      <th>77</th>\n",
       "      <td>bq_000</td>\n",
       "      <td>80.438</td>\n",
       "    </tr>\n",
       "    <tr>\n",
       "      <th>76</th>\n",
       "      <td>bp_000</td>\n",
       "      <td>78.713</td>\n",
       "    </tr>\n",
       "    <tr>\n",
       "      <th>113</th>\n",
       "      <td>cr_000</td>\n",
       "      <td>77.124</td>\n",
       "    </tr>\n",
       "    <tr>\n",
       "      <th>1</th>\n",
       "      <td>ab_000</td>\n",
       "      <td>77.124</td>\n",
       "    </tr>\n",
       "    <tr>\n",
       "      <th>75</th>\n",
       "      <td>bo_000</td>\n",
       "      <td>76.467</td>\n",
       "    </tr>\n",
       "    <tr>\n",
       "      <th>74</th>\n",
       "      <td>bn_000</td>\n",
       "      <td>72.702</td>\n",
       "    </tr>\n",
       "  </tbody>\n",
       "</table>\n",
       "</div>"
      ],
      "text/plain": [
       "    col_name  Perc_nul_val\n",
       "78    br_000        81.350\n",
       "77    bq_000        80.438\n",
       "76    bp_000        78.713\n",
       "113   cr_000        77.124\n",
       "1     ab_000        77.124\n",
       "75    bo_000        76.467\n",
       "74    bn_000        72.702"
      ]
     },
     "execution_count": 14,
     "metadata": {},
     "output_type": "execute_result"
    }
   ],
   "source": [
    "drop_cols = perc_null_df[perc_null_df['Perc_nul_val']>70]\n",
    "drop_cols"
   ]
  },
  {
   "cell_type": "code",
   "execution_count": 15,
   "metadata": {},
   "outputs": [
    {
     "data": {
      "text/plain": [
       "(35002, 171)"
      ]
     },
     "execution_count": 15,
     "metadata": {},
     "output_type": "execute_result"
    }
   ],
   "source": [
    "df.shape"
   ]
  },
  {
   "cell_type": "code",
   "execution_count": 16,
   "metadata": {},
   "outputs": [],
   "source": [
    "df.drop(drop_cols['col_name'], axis=1, inplace= True) # axis=1 for column and axis=0 for rows"
   ]
  },
  {
   "cell_type": "code",
   "execution_count": 17,
   "metadata": {},
   "outputs": [
    {
     "data": {
      "text/plain": [
       "(35002, 164)"
      ]
     },
     "execution_count": 17,
     "metadata": {},
     "output_type": "execute_result"
    }
   ],
   "source": [
    "df.shape"
   ]
  },
  {
   "cell_type": "code",
   "execution_count": 18,
   "metadata": {},
   "outputs": [
    {
     "data": {
      "text/plain": [
       "309391"
      ]
     },
     "execution_count": 18,
     "metadata": {},
     "output_type": "execute_result"
    }
   ],
   "source": [
    "df.isna().sum().sum()"
   ]
  },
  {
   "cell_type": "code",
   "execution_count": 19,
   "metadata": {},
   "outputs": [
    {
     "data": {
      "text/plain": [
       "5740328"
      ]
     },
     "execution_count": 19,
     "metadata": {},
     "output_type": "execute_result"
    }
   ],
   "source": [
    "np.product(df.shape)"
   ]
  },
  {
   "cell_type": "code",
   "execution_count": 20,
   "metadata": {},
   "outputs": [
    {
     "data": {
      "text/plain": [
       "'Percentage missing : 5.39%'"
      ]
     },
     "execution_count": 20,
     "metadata": {},
     "output_type": "execute_result"
    }
   ],
   "source": [
    "f\"Percentage missing : {round(df.isna().sum().sum()/np.product(df.shape)*100,2)}%\""
   ]
  },
  {
   "cell_type": "markdown",
   "metadata": {},
   "source": [
    "## Univerate analysis"
   ]
  },
  {
   "cell_type": "code",
   "execution_count": 21,
   "metadata": {},
   "outputs": [
    {
     "data": {
      "text/plain": [
       "<seaborn.axisgrid.FacetGrid at 0x22061b9eb20>"
      ]
     },
     "execution_count": 21,
     "metadata": {},
     "output_type": "execute_result"
    },
    {
     "data": {
      "text/plain": [
       "<Figure size 216x216 with 0 Axes>"
      ]
     },
     "metadata": {},
     "output_type": "display_data"
    },
    {
     "data": {
      "image/png": "[encoded data removed]",
      "text/plain": [
       "<Figure size 360x360 with 1 Axes>"
      ]
     },
     "metadata": {
      "needs_background": "light"
     },
     "output_type": "display_data"
    }
   ],
   "source": [
    "plt.figure(figsize=(3,3))\n",
    "sns.displot(df['ee_004'],color='indianred')"
   ]
  },
  {
   "cell_type": "code",
   "execution_count": 22,
   "metadata": {},
   "outputs": [],
   "source": [
    "numerical_columns = [col for col in df.columns if df[col].dtype != 'O']\n",
    "categorical_columns = [col for col in df.columns if df[col].dtype == 'O']"
   ]
  },
  {
   "cell_type": "code",
   "execution_count": 23,
   "metadata": {},
   "outputs": [
    {
     "name": "stderr",
     "output_type": "stream",
     "text": [
      "C:\\Users\\LikithP\\AppData\\Local\\Temp\\ipykernel_19780\\2530798759.py:3: MatplotlibDeprecationWarning: Auto-removal of overlapping axes is deprecated since 3.6 and will be removed two minor releases later; explicitly call ax.remove() as needed.\n",
      "  plt.subplot(60,3,i+1)\n"
     ]
    },
    {
     "ename": "KeyboardInterrupt",
     "evalue": "",
     "output_type": "error",
     "traceback": [
      "\u001b[1;31m---------------------------------------------------------------------------\u001b[0m",
      "\u001b[1;31mKeyboardInterrupt\u001b[0m                         Traceback (most recent call last)",
      "Input \u001b[1;32mIn [23]\u001b[0m, in \u001b[0;36m<cell line: 2>\u001b[1;34m()\u001b[0m\n\u001b[0;32m      2\u001b[0m \u001b[38;5;28;01mfor\u001b[39;00m i, col \u001b[38;5;129;01min\u001b[39;00m \u001b[38;5;28menumerate\u001b[39m(numerical_columns):\n\u001b[0;32m      3\u001b[0m     plt\u001b[38;5;241m.\u001b[39msubplot(\u001b[38;5;241m60\u001b[39m,\u001b[38;5;241m3\u001b[39m,i\u001b[38;5;241m+\u001b[39m\u001b[38;5;241m1\u001b[39m)\n\u001b[1;32m----> 4\u001b[0m     \u001b[43msns\u001b[49m\u001b[38;5;241;43m.\u001b[39;49m\u001b[43mdisplot\u001b[49m\u001b[43m(\u001b[49m\u001b[43mx\u001b[49m\u001b[38;5;241;43m=\u001b[39;49m\u001b[43mdf\u001b[49m\u001b[43m[\u001b[49m\u001b[43mcol\u001b[49m\u001b[43m]\u001b[49m\u001b[43m,\u001b[49m\u001b[43mcolor\u001b[49m\u001b[38;5;241;43m=\u001b[39;49m\u001b[38;5;124;43m'\u001b[39;49m\u001b[38;5;124;43mindianred\u001b[39;49m\u001b[38;5;124;43m'\u001b[39;49m\u001b[43m)\u001b[49m\n\u001b[0;32m      5\u001b[0m     plt\u001b[38;5;241m.\u001b[39mxlabel(col, weight \u001b[38;5;241m=\u001b[39m \u001b[38;5;124m'\u001b[39m\u001b[38;5;124mbold\u001b[39m\u001b[38;5;124m'\u001b[39m)\n\u001b[0;32m      6\u001b[0m     plt\u001b[38;5;241m.\u001b[39mtight_layout()\n",
      "File \u001b[1;32m~\\anaconda3\\lib\\site-packages\\seaborn\\distributions.py:2274\u001b[0m, in \u001b[0;36mdisplot\u001b[1;34m(data, x, y, hue, row, col, weights, kind, rug, rug_kws, log_scale, legend, palette, hue_order, hue_norm, color, col_wrap, row_order, col_order, height, aspect, facet_kws, **kwargs)\u001b[0m\n\u001b[0;32m   2271\u001b[0m \u001b[38;5;28;01mif\u001b[39;00m p\u001b[38;5;241m.\u001b[39munivariate:\n\u001b[0;32m   2273\u001b[0m     _assign_default_kwargs(hist_kws, p\u001b[38;5;241m.\u001b[39mplot_univariate_histogram, histplot)\n\u001b[1;32m-> 2274\u001b[0m     p\u001b[38;5;241m.\u001b[39mplot_univariate_histogram(\u001b[38;5;241m*\u001b[39m\u001b[38;5;241m*\u001b[39mhist_kws)\n\u001b[0;32m   2276\u001b[0m \u001b[38;5;28;01melse\u001b[39;00m:\n\u001b[0;32m   2278\u001b[0m     _assign_default_kwargs(hist_kws, p\u001b[38;5;241m.\u001b[39mplot_bivariate_histogram, histplot)\n",
      "File \u001b[1;32m~\\anaconda3\\lib\\site-packages\\seaborn\\distributions.py:565\u001b[0m, in \u001b[0;36m_DistributionPlotter.plot_univariate_histogram\u001b[1;34m(self, multiple, element, fill, common_norm, common_bins, shrink, kde, kde_kws, color, legend, line_kws, estimate_kws, **plot_kws)\u001b[0m\n\u001b[0;32m    560\u001b[0m \u001b[38;5;28;01mif\u001b[39;00m element \u001b[38;5;241m==\u001b[39m \u001b[38;5;124m\"\u001b[39m\u001b[38;5;124mbars\u001b[39m\u001b[38;5;124m\"\u001b[39m:\n\u001b[0;32m    561\u001b[0m \n\u001b[0;32m    562\u001b[0m     \u001b[38;5;66;03m# Use matplotlib bar plotting\u001b[39;00m\n\u001b[0;32m    564\u001b[0m     plot_func \u001b[38;5;241m=\u001b[39m ax\u001b[38;5;241m.\u001b[39mbar \u001b[38;5;28;01mif\u001b[39;00m \u001b[38;5;28mself\u001b[39m\u001b[38;5;241m.\u001b[39mdata_variable \u001b[38;5;241m==\u001b[39m \u001b[38;5;124m\"\u001b[39m\u001b[38;5;124mx\u001b[39m\u001b[38;5;124m\"\u001b[39m \u001b[38;5;28;01melse\u001b[39;00m ax\u001b[38;5;241m.\u001b[39mbarh\n\u001b[1;32m--> 565\u001b[0m     artists \u001b[38;5;241m=\u001b[39m plot_func(\n\u001b[0;32m    566\u001b[0m         hist[\u001b[38;5;124m\"\u001b[39m\u001b[38;5;124medges\u001b[39m\u001b[38;5;124m\"\u001b[39m],\n\u001b[0;32m    567\u001b[0m         hist[\u001b[38;5;124m\"\u001b[39m\u001b[38;5;124mheights\u001b[39m\u001b[38;5;124m\"\u001b[39m] \u001b[38;5;241m-\u001b[39m bottom,\n\u001b[0;32m    568\u001b[0m         hist[\u001b[38;5;124m\"\u001b[39m\u001b[38;5;124mwidths\u001b[39m\u001b[38;5;124m\"\u001b[39m],\n\u001b[0;32m    569\u001b[0m         bottom,\n\u001b[0;32m    570\u001b[0m         align\u001b[38;5;241m=\u001b[39m\u001b[38;5;124m\"\u001b[39m\u001b[38;5;124medge\u001b[39m\u001b[38;5;124m\"\u001b[39m,\n\u001b[0;32m    571\u001b[0m         \u001b[38;5;241m*\u001b[39m\u001b[38;5;241m*\u001b[39martist_kws,\n\u001b[0;32m    572\u001b[0m     )\n\u001b[0;32m    573\u001b[0m     \u001b[38;5;28;01mfor\u001b[39;00m bar \u001b[38;5;129;01min\u001b[39;00m artists:\n\u001b[0;32m    574\u001b[0m         \u001b[38;5;28;01mif\u001b[39;00m \u001b[38;5;28mself\u001b[39m\u001b[38;5;241m.\u001b[39mdata_variable \u001b[38;5;241m==\u001b[39m \u001b[38;5;124m\"\u001b[39m\u001b[38;5;124mx\u001b[39m\u001b[38;5;124m\"\u001b[39m:\n",
      "File \u001b[1;32m~\\anaconda3\\lib\\site-packages\\matplotlib\\__init__.py:1423\u001b[0m, in \u001b[0;36m_preprocess_data.<locals>.inner\u001b[1;34m(ax, data, *args, **kwargs)\u001b[0m\n\u001b[0;32m   1420\u001b[0m \u001b[38;5;129m@functools\u001b[39m\u001b[38;5;241m.\u001b[39mwraps(func)\n\u001b[0;32m   1421\u001b[0m \u001b[38;5;28;01mdef\u001b[39;00m \u001b[38;5;21minner\u001b[39m(ax, \u001b[38;5;241m*\u001b[39margs, data\u001b[38;5;241m=\u001b[39m\u001b[38;5;28;01mNone\u001b[39;00m, \u001b[38;5;241m*\u001b[39m\u001b[38;5;241m*\u001b[39mkwargs):\n\u001b[0;32m   1422\u001b[0m     \u001b[38;5;28;01mif\u001b[39;00m data \u001b[38;5;129;01mis\u001b[39;00m \u001b[38;5;28;01mNone\u001b[39;00m:\n\u001b[1;32m-> 1423\u001b[0m         \u001b[38;5;28;01mreturn\u001b[39;00m func(ax, \u001b[38;5;241m*\u001b[39m\u001b[38;5;28mmap\u001b[39m(sanitize_sequence, args), \u001b[38;5;241m*\u001b[39m\u001b[38;5;241m*\u001b[39mkwargs)\n\u001b[0;32m   1425\u001b[0m     bound \u001b[38;5;241m=\u001b[39m new_sig\u001b[38;5;241m.\u001b[39mbind(ax, \u001b[38;5;241m*\u001b[39margs, \u001b[38;5;241m*\u001b[39m\u001b[38;5;241m*\u001b[39mkwargs)\n\u001b[0;32m   1426\u001b[0m     auto_label \u001b[38;5;241m=\u001b[39m (bound\u001b[38;5;241m.\u001b[39marguments\u001b[38;5;241m.\u001b[39mget(label_namer)\n\u001b[0;32m   1427\u001b[0m                   \u001b[38;5;129;01mor\u001b[39;00m bound\u001b[38;5;241m.\u001b[39mkwargs\u001b[38;5;241m.\u001b[39mget(label_namer))\n",
      "File \u001b[1;32m~\\anaconda3\\lib\\site-packages\\matplotlib\\axes\\_axes.py:2460\u001b[0m, in \u001b[0;36mAxes.bar\u001b[1;34m(self, x, height, width, bottom, align, **kwargs)\u001b[0m\n\u001b[0;32m   2458\u001b[0m     \u001b[38;5;28;01melse\u001b[39;00m:  \u001b[38;5;66;03m# horizontal\u001b[39;00m\n\u001b[0;32m   2459\u001b[0m         r\u001b[38;5;241m.\u001b[39msticky_edges\u001b[38;5;241m.\u001b[39mx\u001b[38;5;241m.\u001b[39mappend(l)\n\u001b[1;32m-> 2460\u001b[0m     \u001b[38;5;28;43mself\u001b[39;49m\u001b[38;5;241;43m.\u001b[39;49m\u001b[43madd_patch\u001b[49m\u001b[43m(\u001b[49m\u001b[43mr\u001b[49m\u001b[43m)\u001b[49m\n\u001b[0;32m   2461\u001b[0m     patches\u001b[38;5;241m.\u001b[39mappend(r)\n\u001b[0;32m   2463\u001b[0m \u001b[38;5;28;01mif\u001b[39;00m xerr \u001b[38;5;129;01mis\u001b[39;00m \u001b[38;5;129;01mnot\u001b[39;00m \u001b[38;5;28;01mNone\u001b[39;00m \u001b[38;5;129;01mor\u001b[39;00m yerr \u001b[38;5;129;01mis\u001b[39;00m \u001b[38;5;129;01mnot\u001b[39;00m \u001b[38;5;28;01mNone\u001b[39;00m:\n",
      "File \u001b[1;32m~\\anaconda3\\lib\\site-packages\\matplotlib\\axes\\_base.py:2414\u001b[0m, in \u001b[0;36m_AxesBase.add_patch\u001b[1;34m(self, p)\u001b[0m\n\u001b[0;32m   2412\u001b[0m \u001b[38;5;28;01mif\u001b[39;00m p\u001b[38;5;241m.\u001b[39mget_clip_path() \u001b[38;5;129;01mis\u001b[39;00m \u001b[38;5;28;01mNone\u001b[39;00m:\n\u001b[0;32m   2413\u001b[0m     p\u001b[38;5;241m.\u001b[39mset_clip_path(\u001b[38;5;28mself\u001b[39m\u001b[38;5;241m.\u001b[39mpatch)\n\u001b[1;32m-> 2414\u001b[0m \u001b[38;5;28;43mself\u001b[39;49m\u001b[38;5;241;43m.\u001b[39;49m\u001b[43m_update_patch_limits\u001b[49m\u001b[43m(\u001b[49m\u001b[43mp\u001b[49m\u001b[43m)\u001b[49m\n\u001b[0;32m   2415\u001b[0m \u001b[38;5;28mself\u001b[39m\u001b[38;5;241m.\u001b[39m_children\u001b[38;5;241m.\u001b[39mappend(p)\n\u001b[0;32m   2416\u001b[0m p\u001b[38;5;241m.\u001b[39m_remove_method \u001b[38;5;241m=\u001b[39m \u001b[38;5;28mself\u001b[39m\u001b[38;5;241m.\u001b[39m_children\u001b[38;5;241m.\u001b[39mremove\n",
      "File \u001b[1;32m~\\anaconda3\\lib\\site-packages\\matplotlib\\axes\\_base.py:2446\u001b[0m, in \u001b[0;36m_AxesBase._update_patch_limits\u001b[1;34m(self, patch)\u001b[0m\n\u001b[0;32m   2443\u001b[0m     vertices \u001b[38;5;241m=\u001b[39m np\u001b[38;5;241m.\u001b[39mrow_stack(vertices)\n\u001b[0;32m   2445\u001b[0m patch_trf \u001b[38;5;241m=\u001b[39m patch\u001b[38;5;241m.\u001b[39mget_transform()\n\u001b[1;32m-> 2446\u001b[0m updatex, updatey \u001b[38;5;241m=\u001b[39m \u001b[43mpatch_trf\u001b[49m\u001b[38;5;241;43m.\u001b[39;49m\u001b[43mcontains_branch_seperately\u001b[49m\u001b[43m(\u001b[49m\u001b[38;5;28;43mself\u001b[39;49m\u001b[38;5;241;43m.\u001b[39;49m\u001b[43mtransData\u001b[49m\u001b[43m)\u001b[49m\n\u001b[0;32m   2447\u001b[0m \u001b[38;5;28;01mif\u001b[39;00m \u001b[38;5;129;01mnot\u001b[39;00m (updatex \u001b[38;5;129;01mor\u001b[39;00m updatey):\n\u001b[0;32m   2448\u001b[0m     \u001b[38;5;28;01mreturn\u001b[39;00m\n",
      "File \u001b[1;32m~\\anaconda3\\lib\\site-packages\\matplotlib\\transforms.py:1411\u001b[0m, in \u001b[0;36mTransform.contains_branch_seperately\u001b[1;34m(self, other_transform)\u001b[0m\n\u001b[0;32m   1407\u001b[0m     \u001b[38;5;28;01mraise\u001b[39;00m \u001b[38;5;167;01mValueError\u001b[39;00m(\u001b[38;5;124m'\u001b[39m\u001b[38;5;124mcontains_branch_seperately only supports \u001b[39m\u001b[38;5;124m'\u001b[39m\n\u001b[0;32m   1408\u001b[0m                      \u001b[38;5;124m'\u001b[39m\u001b[38;5;124mtransforms with 2 output dimensions\u001b[39m\u001b[38;5;124m'\u001b[39m)\n\u001b[0;32m   1409\u001b[0m \u001b[38;5;66;03m# for a non-blended transform each separate dimension is the same, so\u001b[39;00m\n\u001b[0;32m   1410\u001b[0m \u001b[38;5;66;03m# just return the appropriate shape.\u001b[39;00m\n\u001b[1;32m-> 1411\u001b[0m \u001b[38;5;28;01mreturn\u001b[39;00m [\u001b[38;5;28;43mself\u001b[39;49m\u001b[38;5;241;43m.\u001b[39;49m\u001b[43mcontains_branch\u001b[49m\u001b[43m(\u001b[49m\u001b[43mother_transform\u001b[49m\u001b[43m)\u001b[49m] \u001b[38;5;241m*\u001b[39m \u001b[38;5;241m2\u001b[39m\n",
      "File \u001b[1;32m~\\anaconda3\\lib\\site-packages\\matplotlib\\transforms.py:1391\u001b[0m, in \u001b[0;36mTransform.contains_branch\u001b[1;34m(self, other)\u001b[0m\n\u001b[0;32m   1389\u001b[0m \u001b[38;5;66;03m# check that a subtree is equal to other (starting from self)\u001b[39;00m\n\u001b[0;32m   1390\u001b[0m \u001b[38;5;28;01mfor\u001b[39;00m _, sub_tree \u001b[38;5;129;01min\u001b[39;00m \u001b[38;5;28mself\u001b[39m\u001b[38;5;241m.\u001b[39m_iter_break_from_left_to_right():\n\u001b[1;32m-> 1391\u001b[0m     \u001b[38;5;28;01mif\u001b[39;00m \u001b[43msub_tree\u001b[49m\u001b[43m \u001b[49m\u001b[38;5;241;43m==\u001b[39;49m\u001b[43m \u001b[49m\u001b[43mother\u001b[49m:\n\u001b[0;32m   1392\u001b[0m         \u001b[38;5;28;01mreturn\u001b[39;00m \u001b[38;5;28;01mTrue\u001b[39;00m\n\u001b[0;32m   1393\u001b[0m \u001b[38;5;28;01mreturn\u001b[39;00m \u001b[38;5;28;01mFalse\u001b[39;00m\n",
      "File \u001b[1;32m~\\anaconda3\\lib\\site-packages\\matplotlib\\transforms.py:2398\u001b[0m, in \u001b[0;36mCompositeGenericTransform.__eq__\u001b[1;34m(self, other)\u001b[0m\n\u001b[0;32m   2396\u001b[0m \u001b[38;5;28;01mdef\u001b[39;00m \u001b[38;5;21m__eq__\u001b[39m(\u001b[38;5;28mself\u001b[39m, other):\n\u001b[0;32m   2397\u001b[0m     \u001b[38;5;28;01mif\u001b[39;00m \u001b[38;5;28misinstance\u001b[39m(other, (CompositeGenericTransform, CompositeAffine2D)):\n\u001b[1;32m-> 2398\u001b[0m         \u001b[38;5;28;01mreturn\u001b[39;00m \u001b[38;5;28mself\u001b[39m \u001b[38;5;129;01mis\u001b[39;00m other \u001b[38;5;129;01mor\u001b[39;00m (\u001b[38;5;28;43mself\u001b[39;49m\u001b[38;5;241;43m.\u001b[39;49m\u001b[43m_a\u001b[49m\u001b[43m \u001b[49m\u001b[38;5;241;43m==\u001b[39;49m\u001b[43m \u001b[49m\u001b[43mother\u001b[49m\u001b[38;5;241;43m.\u001b[39;49m\u001b[43m_a\u001b[49m\n\u001b[0;32m   2399\u001b[0m                                  \u001b[38;5;129;01mand\u001b[39;00m \u001b[38;5;28mself\u001b[39m\u001b[38;5;241m.\u001b[39m_b \u001b[38;5;241m==\u001b[39m other\u001b[38;5;241m.\u001b[39m_b)\n\u001b[0;32m   2400\u001b[0m     \u001b[38;5;28;01melse\u001b[39;00m:\n\u001b[0;32m   2401\u001b[0m         \u001b[38;5;28;01mreturn\u001b[39;00m \u001b[38;5;28;01mFalse\u001b[39;00m\n",
      "File \u001b[1;32m~\\anaconda3\\lib\\site-packages\\matplotlib\\transforms.py:1779\u001b[0m, in \u001b[0;36mAffineBase.__eq__\u001b[1;34m(self, other)\u001b[0m\n\u001b[0;32m   1777\u001b[0m \u001b[38;5;28;01mdef\u001b[39;00m \u001b[38;5;21m__eq__\u001b[39m(\u001b[38;5;28mself\u001b[39m, other):\n\u001b[0;32m   1778\u001b[0m     \u001b[38;5;28;01mif\u001b[39;00m \u001b[38;5;28mgetattr\u001b[39m(other, \u001b[38;5;124m\"\u001b[39m\u001b[38;5;124mis_affine\u001b[39m\u001b[38;5;124m\"\u001b[39m, \u001b[38;5;28;01mFalse\u001b[39;00m) \u001b[38;5;129;01mand\u001b[39;00m \u001b[38;5;28mhasattr\u001b[39m(other, \u001b[38;5;124m\"\u001b[39m\u001b[38;5;124mget_matrix\u001b[39m\u001b[38;5;124m\"\u001b[39m):\n\u001b[1;32m-> 1779\u001b[0m         \u001b[38;5;28;01mreturn\u001b[39;00m \u001b[43mnp\u001b[49m\u001b[38;5;241;43m.\u001b[39;49m\u001b[43mall\u001b[49m\u001b[43m(\u001b[49m\u001b[38;5;28;43mself\u001b[39;49m\u001b[38;5;241;43m.\u001b[39;49m\u001b[43mget_matrix\u001b[49m\u001b[43m(\u001b[49m\u001b[43m)\u001b[49m\u001b[43m \u001b[49m\u001b[38;5;241;43m==\u001b[39;49m\u001b[43m \u001b[49m\u001b[43mother\u001b[49m\u001b[38;5;241;43m.\u001b[39;49m\u001b[43mget_matrix\u001b[49m\u001b[43m(\u001b[49m\u001b[43m)\u001b[49m\u001b[43m)\u001b[49m\n\u001b[0;32m   1780\u001b[0m     \u001b[38;5;28;01mreturn\u001b[39;00m \u001b[38;5;28mNotImplemented\u001b[39m\n",
      "File \u001b[1;32m<__array_function__ internals>:177\u001b[0m, in \u001b[0;36mall\u001b[1;34m(*args, **kwargs)\u001b[0m\n",
      "\u001b[1;31mKeyboardInterrupt\u001b[0m: "
     ]
    },
    {
     "name": "stdout",
     "output_type": "stream",
     "text": [
      "Error in callback <function _draw_all_if_interactive at 0x0000022051DF2940> (for post_execute):\n"
     ]
    },
    {
     "name": "stderr",
     "output_type": "stream",
     "text": [
      "\n",
      "KeyboardInterrupt\n",
      "\n"
     ]
    },
    {
     "data": {
      "image/png": "[encoded data removed]",
      "text/plain": [
       "<Figure size 1080x7200 with 1 Axes>"
      ]
     },
     "metadata": {
      "needs_background": "light"
     },
     "output_type": "display_data"
    },
    {
     "data": {
      "image/png": "[encoded data removed]",
      "text/plain": [
       "<Figure size 360x360 with 1 Axes>"
      ]
     },
     "metadata": {
      "needs_background": "light"
     },
     "output_type": "display_data"
    },
    {
     "name": "stdout",
     "output_type": "stream",
     "text": [
      "Error in callback <function flush_figures at 0x0000022061C53820> (for post_execute):\n"
     ]
    },
    {
     "name": "stderr",
     "output_type": "stream",
     "text": [
      "\n",
      "KeyboardInterrupt\n",
      "\n"
     ]
    }
   ],
   "source": [
    "plt.figure(figsize=(15,100))\n",
    "for i, col in enumerate(numerical_columns):\n",
    "    plt.subplot(60,3,i+1)\n",
    "    sns.displot(x=df[col],color='indianred')\n",
    "    plt.xlabel(col, weight = 'bold')\n",
    "    plt.tight_layout()"
   ]
  },
  {
   "cell_type": "code",
   "execution_count": 24,
   "metadata": {},
   "outputs": [],
   "source": [
    "from sklearn.preprocessing import PowerTransformer\n",
    "from sklearn.preprocessing import LabelEncoder\n",
    "from sklearn.pipeline import Pipeline\n",
    "from sklearn.utils import resample\n",
    "\n",
    "from sklearn.linear_model import LogisticRegression\n",
    "from sklearn.tree import DecisionTreeClassifier\n",
    "from sklearn.ensemble import RandomForestClassifier, AdaBoostClassifier, GradientBoostingClassifier\n",
    "from sklearn.neighbors import KNeighborsClassifier\n",
    "from sklearn.svm import SVC\n",
    "from sklearn.metrics import accuracy_score, classification_report,ConfusionMatrixDisplay, \\\n",
    "                            precision_score, recall_score, f1_score, roc_auc_score,roc_curve,confusion_matrix\n",
    "from sklearn import metrics \n",
    "from sklearn.model_selection import  train_test_split, RepeatedStratifiedKFold, cross_val_score\n",
    "from sklearn.preprocessing import OneHotEncoder, MinMaxScaler\n",
    "from sklearn.compose import ColumnTransformer\n",
    "from sklearn.impute import SimpleImputer, KNNImputer\n",
    "#from xgboost import XGBClassifier\n",
    "from sklearn.preprocessing import StandardScaler, MinMaxScaler,RobustScaler\n",
    "from sklearn.compose import ColumnTransformer"
   ]
  },
  {
   "cell_type": "code",
   "execution_count": 25,
   "metadata": {},
   "outputs": [],
   "source": [
    "def evaluate_model(true,predicted):\n",
    "    \"\"\"\n",
    "    This function takes in true values and predicted values and compares it\n",
    "    Returns: Accuracy,F1-Score,Precision,Recall, Roc-auc Score\n",
    "    \"\"\"\n",
    "    \n",
    "    acc = accuracy_score(true,predicted) # Calcuate Accuracy\n",
    "    f1 = f1_score(true,predicted)\n",
    "    precesion = precision_score(true,predicted)\n",
    "    recall = recall_score(true,predicted)\n",
    "    roc_auc = roc_auc_score(true,predicted)\n",
    "    return acc ,f1,precesion,recall,roc_auc"
   ]
  },
  {
   "cell_type": "code",
   "execution_count": 26,
   "metadata": {},
   "outputs": [],
   "source": [
    "# Create cost of the model as per data description\n",
    "def total_cost(y_true,y_pred):\n",
    "    '''\n",
    "    This function takes y_true and y_predected and prints Total cost due to misclassification \n",
    "    '''\n",
    "    \n",
    "    tn,fp,fn,tp = confusion_matrix(y_true,y_pred).ravel()\n",
    "    cost =10*fp +500*fn\n",
    "    \n",
    "    return cost"
   ]
  },
  {
   "cell_type": "code",
   "execution_count": 27,
   "metadata": {},
   "outputs": [],
   "source": [
    "# Dictionary which contains models for experiment\n",
    "models = {\n",
    "    \"Random Forest\": RandomForestClassifier(),\n",
    "    \"Decision Tree\": DecisionTreeClassifier(),\n",
    "    \"Gradient Boosting\": GradientBoostingClassifier(),\n",
    "    \"Logistic Regression\": LogisticRegression(),\n",
    "     \"K-Neighbors Classifier\": KNeighborsClassifier(),\n",
    "#     \"XGBClassifier\": XGBClassifier(), \n",
    "#      \"CatBoosting Classifier\": CatBoostClassifier(verbose=False),\n",
    "    \"AdaBoost Classifier\": AdaBoostClassifier()\n",
    "}"
   ]
  },
  {
   "cell_type": "code",
   "execution_count": 50,
   "metadata": {},
   "outputs": [],
   "source": [
    "## create a function which can evaluate model and returns a report\n",
    "\n",
    "def evaluate(X,y,models):\n",
    "    '''\n",
    "    This function takes X ,y and model as input\n",
    "    It splits into train and test\n",
    "    evalute the metrics for train and test\n",
    "    Return: Dataframe which contains report of all models metrics with cost\n",
    "    '''\n",
    "    \n",
    "    X_train,X_test,y_train,y_test =train_test_split(X,y,test_size=0.25,random_state=40)\n",
    "    \n",
    "    cost_list=[]\n",
    "    models_list=[]\n",
    "    accuracy_list=[]\n",
    "    \n",
    "    for i in range(len(list(models))):\n",
    "        model = list(models.values())[i]\n",
    "        print(model)\n",
    "        model.fit(X_train,y_train)\n",
    "        \n",
    "        #Making the Prediction\n",
    "        y_train_pred = model.predict(X_train)\n",
    "        y_test_pred = model.predict(X_test)\n",
    "        \n",
    "        # Training set perforamnce\n",
    "        model_train_acc,model_train_f1,model_train_precission,model_train_recall, \\\n",
    "        model_train_roc = evaluate_model(y_train,y_train_pred)\n",
    "        train_cost= total_cost(y_train,y_train_pred)\n",
    "        \n",
    "        # test set perforamnce\n",
    "        model_test_acc,model_test_f1,model_test_precission,model_test_recall, \\\n",
    "        model_test_roc = evaluate_model(y_test,y_test_pred)\n",
    "        test_cost= total_cost(y_test,y_test_pred)\n",
    "        \n",
    "        print(\"Model Name - \",list(models.keys())[i]) ### It will print the algo name\n",
    "        models_list.append(list(models.keys())[i])\n",
    "        cost_list.append(test_cost)\n",
    "        \n",
    "        \n",
    "        print('######## Model performance for training set ########')\n",
    "        print(f\"Accuracy------------>{model_train_acc}\")\n",
    "        print(f\"F1 score------------>{model_train_f1}\")\n",
    "        print(f\"Precesion----------->{model_train_precission}\")\n",
    "        print(f\"Recall-------------->{model_train_recall}\")\n",
    "        print(f\"Roc Auc Score------->{model_train_roc}\")\n",
    "        \n",
    "        print('######## Model performance for test set ########')\n",
    "        print(f\"Accuracy------------>{model_test_acc}\")\n",
    "        print(f\"F1 score------------>{model_test_f1}\")\n",
    "        print(f\"Precesion----------->{model_test_precission}\")\n",
    "        print(f\"Recall-------------->{model_test_recall}\")\n",
    "        print(f\"Roc Auc Score------->{model_test_roc}\")\n",
    "        print(\"\\n\")\n",
    "    report = pd.DataFrame(list(zip(models_list,cost_list)),columns=['ModelName','Cost']).sort_values(by=['Cost'])\n",
    "    \n",
    "    return report"
   ]
  },
  {
   "cell_type": "code",
   "execution_count": 29,
   "metadata": {},
   "outputs": [],
   "source": [
    "X= df.drop('class',axis=1)\n",
    "y = df['class']"
   ]
  },
  {
   "cell_type": "code",
   "execution_count": 30,
   "metadata": {},
   "outputs": [
    {
     "data": {
      "text/html": [
       "<div>\n",
       "<style scoped>\n",
       "    .dataframe tbody tr th:only-of-type {\n",
       "        vertical-align: middle;\n",
       "    }\n",
       "\n",
       "    .dataframe tbody tr th {\n",
       "        vertical-align: top;\n",
       "    }\n",
       "\n",
       "    .dataframe thead th {\n",
       "        text-align: right;\n",
       "    }\n",
       "</style>\n",
       "<table border=\"1\" class=\"dataframe\">\n",
       "  <thead>\n",
       "    <tr style=\"text-align: right;\">\n",
       "      <th></th>\n",
       "      <th>aa_000</th>\n",
       "      <th>ac_000</th>\n",
       "      <th>ad_000</th>\n",
       "      <th>ae_000</th>\n",
       "      <th>af_000</th>\n",
       "      <th>ag_000</th>\n",
       "      <th>ag_001</th>\n",
       "      <th>ag_002</th>\n",
       "      <th>ag_003</th>\n",
       "      <th>ag_004</th>\n",
       "      <th>...</th>\n",
       "      <th>ee_002</th>\n",
       "      <th>ee_003</th>\n",
       "      <th>ee_004</th>\n",
       "      <th>ee_005</th>\n",
       "      <th>ee_006</th>\n",
       "      <th>ee_007</th>\n",
       "      <th>ee_008</th>\n",
       "      <th>ee_009</th>\n",
       "      <th>ef_000</th>\n",
       "      <th>eg_000</th>\n",
       "    </tr>\n",
       "  </thead>\n",
       "  <tbody>\n",
       "    <tr>\n",
       "      <th>0</th>\n",
       "      <td>1056758.0</td>\n",
       "      <td>4.232800e+04</td>\n",
       "      <td>856.0</td>\n",
       "      <td>0.0</td>\n",
       "      <td>0.0</td>\n",
       "      <td>0.0</td>\n",
       "      <td>50394.0</td>\n",
       "      <td>184552.0</td>\n",
       "      <td>2116260.0</td>\n",
       "      <td>8359268.0</td>\n",
       "      <td>...</td>\n",
       "      <td>1450086.0</td>\n",
       "      <td>713608.0</td>\n",
       "      <td>1750894.0</td>\n",
       "      <td>4054554.0</td>\n",
       "      <td>4096660.0</td>\n",
       "      <td>2295880.0</td>\n",
       "      <td>220478.0</td>\n",
       "      <td>482.0</td>\n",
       "      <td>0.0</td>\n",
       "      <td>0.0</td>\n",
       "    </tr>\n",
       "    <tr>\n",
       "      <th>1</th>\n",
       "      <td>1665858.0</td>\n",
       "      <td>NaN</td>\n",
       "      <td>NaN</td>\n",
       "      <td>0.0</td>\n",
       "      <td>0.0</td>\n",
       "      <td>0.0</td>\n",
       "      <td>0.0</td>\n",
       "      <td>0.0</td>\n",
       "      <td>4210.0</td>\n",
       "      <td>847684.0</td>\n",
       "      <td>...</td>\n",
       "      <td>15655546.0</td>\n",
       "      <td>7961190.0</td>\n",
       "      <td>15573746.0</td>\n",
       "      <td>13337708.0</td>\n",
       "      <td>9939694.0</td>\n",
       "      <td>6375252.0</td>\n",
       "      <td>6517696.0</td>\n",
       "      <td>180452.0</td>\n",
       "      <td>0.0</td>\n",
       "      <td>0.0</td>\n",
       "    </tr>\n",
       "    <tr>\n",
       "      <th>2</th>\n",
       "      <td>341116.0</td>\n",
       "      <td>7.300000e+02</td>\n",
       "      <td>NaN</td>\n",
       "      <td>0.0</td>\n",
       "      <td>0.0</td>\n",
       "      <td>0.0</td>\n",
       "      <td>6782.0</td>\n",
       "      <td>243092.0</td>\n",
       "      <td>2693264.0</td>\n",
       "      <td>10294678.0</td>\n",
       "      <td>...</td>\n",
       "      <td>1392970.0</td>\n",
       "      <td>670836.0</td>\n",
       "      <td>1622420.0</td>\n",
       "      <td>2006306.0</td>\n",
       "      <td>5831812.0</td>\n",
       "      <td>3198600.0</td>\n",
       "      <td>47068.0</td>\n",
       "      <td>0.0</td>\n",
       "      <td>0.0</td>\n",
       "      <td>0.0</td>\n",
       "    </tr>\n",
       "    <tr>\n",
       "      <th>3</th>\n",
       "      <td>207292.0</td>\n",
       "      <td>3.418000e+03</td>\n",
       "      <td>NaN</td>\n",
       "      <td>0.0</td>\n",
       "      <td>0.0</td>\n",
       "      <td>0.0</td>\n",
       "      <td>34086.0</td>\n",
       "      <td>300110.0</td>\n",
       "      <td>2063184.0</td>\n",
       "      <td>6215198.0</td>\n",
       "      <td>...</td>\n",
       "      <td>1075284.0</td>\n",
       "      <td>748704.0</td>\n",
       "      <td>1892554.0</td>\n",
       "      <td>2372806.0</td>\n",
       "      <td>3308370.0</td>\n",
       "      <td>176844.0</td>\n",
       "      <td>4860.0</td>\n",
       "      <td>0.0</td>\n",
       "      <td>0.0</td>\n",
       "      <td>0.0</td>\n",
       "    </tr>\n",
       "    <tr>\n",
       "      <th>4</th>\n",
       "      <td>1386134.0</td>\n",
       "      <td>0.000000e+00</td>\n",
       "      <td>NaN</td>\n",
       "      <td>0.0</td>\n",
       "      <td>0.0</td>\n",
       "      <td>0.0</td>\n",
       "      <td>0.0</td>\n",
       "      <td>0.0</td>\n",
       "      <td>37938.0</td>\n",
       "      <td>2413744.0</td>\n",
       "      <td>...</td>\n",
       "      <td>11849780.0</td>\n",
       "      <td>6078744.0</td>\n",
       "      <td>11391988.0</td>\n",
       "      <td>9705102.0</td>\n",
       "      <td>10601346.0</td>\n",
       "      <td>5264516.0</td>\n",
       "      <td>6692608.0</td>\n",
       "      <td>634500.0</td>\n",
       "      <td>0.0</td>\n",
       "      <td>0.0</td>\n",
       "    </tr>\n",
       "    <tr>\n",
       "      <th>...</th>\n",
       "      <td>...</td>\n",
       "      <td>...</td>\n",
       "      <td>...</td>\n",
       "      <td>...</td>\n",
       "      <td>...</td>\n",
       "      <td>...</td>\n",
       "      <td>...</td>\n",
       "      <td>...</td>\n",
       "      <td>...</td>\n",
       "      <td>...</td>\n",
       "      <td>...</td>\n",
       "      <td>...</td>\n",
       "      <td>...</td>\n",
       "      <td>...</td>\n",
       "      <td>...</td>\n",
       "      <td>...</td>\n",
       "      <td>...</td>\n",
       "      <td>...</td>\n",
       "      <td>...</td>\n",
       "      <td>...</td>\n",
       "      <td>...</td>\n",
       "    </tr>\n",
       "    <tr>\n",
       "      <th>34997</th>\n",
       "      <td>37258.0</td>\n",
       "      <td>1.104000e+03</td>\n",
       "      <td>994.0</td>\n",
       "      <td>0.0</td>\n",
       "      <td>0.0</td>\n",
       "      <td>0.0</td>\n",
       "      <td>0.0</td>\n",
       "      <td>0.0</td>\n",
       "      <td>0.0</td>\n",
       "      <td>7350.0</td>\n",
       "      <td>...</td>\n",
       "      <td>336870.0</td>\n",
       "      <td>187466.0</td>\n",
       "      <td>402948.0</td>\n",
       "      <td>334876.0</td>\n",
       "      <td>238864.0</td>\n",
       "      <td>123876.0</td>\n",
       "      <td>69168.0</td>\n",
       "      <td>126.0</td>\n",
       "      <td>0.0</td>\n",
       "      <td>0.0</td>\n",
       "    </tr>\n",
       "    <tr>\n",
       "      <th>34998</th>\n",
       "      <td>26.0</td>\n",
       "      <td>2.130706e+09</td>\n",
       "      <td>16.0</td>\n",
       "      <td>0.0</td>\n",
       "      <td>0.0</td>\n",
       "      <td>0.0</td>\n",
       "      <td>0.0</td>\n",
       "      <td>0.0</td>\n",
       "      <td>0.0</td>\n",
       "      <td>58.0</td>\n",
       "      <td>...</td>\n",
       "      <td>492.0</td>\n",
       "      <td>16.0</td>\n",
       "      <td>46.0</td>\n",
       "      <td>18.0</td>\n",
       "      <td>18.0</td>\n",
       "      <td>0.0</td>\n",
       "      <td>0.0</td>\n",
       "      <td>0.0</td>\n",
       "      <td>0.0</td>\n",
       "      <td>0.0</td>\n",
       "    </tr>\n",
       "    <tr>\n",
       "      <th>34999</th>\n",
       "      <td>38024.0</td>\n",
       "      <td>0.000000e+00</td>\n",
       "      <td>NaN</td>\n",
       "      <td>0.0</td>\n",
       "      <td>0.0</td>\n",
       "      <td>0.0</td>\n",
       "      <td>0.0</td>\n",
       "      <td>0.0</td>\n",
       "      <td>0.0</td>\n",
       "      <td>1094.0</td>\n",
       "      <td>...</td>\n",
       "      <td>289008.0</td>\n",
       "      <td>150976.0</td>\n",
       "      <td>318968.0</td>\n",
       "      <td>206590.0</td>\n",
       "      <td>165736.0</td>\n",
       "      <td>136416.0</td>\n",
       "      <td>347438.0</td>\n",
       "      <td>22926.0</td>\n",
       "      <td>0.0</td>\n",
       "      <td>0.0</td>\n",
       "    </tr>\n",
       "    <tr>\n",
       "      <th>35000</th>\n",
       "      <td>11778.0</td>\n",
       "      <td>0.000000e+00</td>\n",
       "      <td>NaN</td>\n",
       "      <td>0.0</td>\n",
       "      <td>0.0</td>\n",
       "      <td>0.0</td>\n",
       "      <td>0.0</td>\n",
       "      <td>0.0</td>\n",
       "      <td>24.0</td>\n",
       "      <td>45020.0</td>\n",
       "      <td>...</td>\n",
       "      <td>404550.0</td>\n",
       "      <td>197372.0</td>\n",
       "      <td>50056.0</td>\n",
       "      <td>12084.0</td>\n",
       "      <td>4608.0</td>\n",
       "      <td>2236.0</td>\n",
       "      <td>2936.0</td>\n",
       "      <td>0.0</td>\n",
       "      <td>0.0</td>\n",
       "      <td>0.0</td>\n",
       "    </tr>\n",
       "    <tr>\n",
       "      <th>35001</th>\n",
       "      <td>NaN</td>\n",
       "      <td>NaN</td>\n",
       "      <td>NaN</td>\n",
       "      <td>NaN</td>\n",
       "      <td>NaN</td>\n",
       "      <td>NaN</td>\n",
       "      <td>NaN</td>\n",
       "      <td>NaN</td>\n",
       "      <td>NaN</td>\n",
       "      <td>NaN</td>\n",
       "      <td>...</td>\n",
       "      <td>NaN</td>\n",
       "      <td>NaN</td>\n",
       "      <td>NaN</td>\n",
       "      <td>NaN</td>\n",
       "      <td>NaN</td>\n",
       "      <td>NaN</td>\n",
       "      <td>NaN</td>\n",
       "      <td>NaN</td>\n",
       "      <td>NaN</td>\n",
       "      <td>NaN</td>\n",
       "    </tr>\n",
       "  </tbody>\n",
       "</table>\n",
       "<p>35002 rows × 163 columns</p>\n",
       "</div>"
      ],
      "text/plain": [
       "          aa_000        ac_000  ad_000  ae_000  af_000  ag_000   ag_001  \\\n",
       "0      1056758.0  4.232800e+04   856.0     0.0     0.0     0.0  50394.0   \n",
       "1      1665858.0           NaN     NaN     0.0     0.0     0.0      0.0   \n",
       "2       341116.0  7.300000e+02     NaN     0.0     0.0     0.0   6782.0   \n",
       "3       207292.0  3.418000e+03     NaN     0.0     0.0     0.0  34086.0   \n",
       "4      1386134.0  0.000000e+00     NaN     0.0     0.0     0.0      0.0   \n",
       "...          ...           ...     ...     ...     ...     ...      ...   \n",
       "34997    37258.0  1.104000e+03   994.0     0.0     0.0     0.0      0.0   \n",
       "34998       26.0  2.130706e+09    16.0     0.0     0.0     0.0      0.0   \n",
       "34999    38024.0  0.000000e+00     NaN     0.0     0.0     0.0      0.0   \n",
       "35000    11778.0  0.000000e+00     NaN     0.0     0.0     0.0      0.0   \n",
       "35001        NaN           NaN     NaN     NaN     NaN     NaN      NaN   \n",
       "\n",
       "         ag_002     ag_003      ag_004  ...      ee_002     ee_003  \\\n",
       "0      184552.0  2116260.0   8359268.0  ...   1450086.0   713608.0   \n",
       "1           0.0     4210.0    847684.0  ...  15655546.0  7961190.0   \n",
       "2      243092.0  2693264.0  10294678.0  ...   1392970.0   670836.0   \n",
       "3      300110.0  2063184.0   6215198.0  ...   1075284.0   748704.0   \n",
       "4           0.0    37938.0   2413744.0  ...  11849780.0  6078744.0   \n",
       "...         ...        ...         ...  ...         ...        ...   \n",
       "34997       0.0        0.0      7350.0  ...    336870.0   187466.0   \n",
       "34998       0.0        0.0        58.0  ...       492.0       16.0   \n",
       "34999       0.0        0.0      1094.0  ...    289008.0   150976.0   \n",
       "35000       0.0       24.0     45020.0  ...    404550.0   197372.0   \n",
       "35001       NaN        NaN         NaN  ...         NaN        NaN   \n",
       "\n",
       "           ee_004      ee_005      ee_006     ee_007     ee_008    ee_009  \\\n",
       "0       1750894.0   4054554.0   4096660.0  2295880.0   220478.0     482.0   \n",
       "1      15573746.0  13337708.0   9939694.0  6375252.0  6517696.0  180452.0   \n",
       "2       1622420.0   2006306.0   5831812.0  3198600.0    47068.0       0.0   \n",
       "3       1892554.0   2372806.0   3308370.0   176844.0     4860.0       0.0   \n",
       "4      11391988.0   9705102.0  10601346.0  5264516.0  6692608.0  634500.0   \n",
       "...           ...         ...         ...        ...        ...       ...   \n",
       "34997    402948.0    334876.0    238864.0   123876.0    69168.0     126.0   \n",
       "34998        46.0        18.0        18.0        0.0        0.0       0.0   \n",
       "34999    318968.0    206590.0    165736.0   136416.0   347438.0   22926.0   \n",
       "35000     50056.0     12084.0      4608.0     2236.0     2936.0       0.0   \n",
       "35001         NaN         NaN         NaN        NaN        NaN       NaN   \n",
       "\n",
       "       ef_000  eg_000  \n",
       "0         0.0     0.0  \n",
       "1         0.0     0.0  \n",
       "2         0.0     0.0  \n",
       "3         0.0     0.0  \n",
       "4         0.0     0.0  \n",
       "...       ...     ...  \n",
       "34997     0.0     0.0  \n",
       "34998     0.0     0.0  \n",
       "34999     0.0     0.0  \n",
       "35000     0.0     0.0  \n",
       "35001     NaN     NaN  \n",
       "\n",
       "[35002 rows x 163 columns]"
      ]
     },
     "execution_count": 30,
     "metadata": {},
     "output_type": "execute_result"
    }
   ],
   "source": [
    "X"
   ]
  },
  {
   "cell_type": "code",
   "execution_count": 31,
   "metadata": {},
   "outputs": [],
   "source": [
    "X= X[0:35001]"
   ]
  },
  {
   "cell_type": "code",
   "execution_count": 32,
   "metadata": {},
   "outputs": [],
   "source": [
    "y = y.replace({'pos':1,'neg':0})"
   ]
  },
  {
   "cell_type": "code",
   "execution_count": 33,
   "metadata": {},
   "outputs": [
    {
     "data": {
      "text/plain": [
       "1"
      ]
     },
     "execution_count": 33,
     "metadata": {},
     "output_type": "execute_result"
    }
   ],
   "source": [
    "y.isna().sum()"
   ]
  },
  {
   "cell_type": "code",
   "execution_count": 34,
   "metadata": {},
   "outputs": [],
   "source": [
    "y= y.dropna()"
   ]
  },
  {
   "cell_type": "code",
   "execution_count": 35,
   "metadata": {},
   "outputs": [
    {
     "data": {
      "text/plain": [
       "0"
      ]
     },
     "execution_count": 35,
     "metadata": {},
     "output_type": "execute_result"
    }
   ],
   "source": [
    "y.isna().sum()"
   ]
  },
  {
   "cell_type": "code",
   "execution_count": 36,
   "metadata": {},
   "outputs": [],
   "source": [
    "robustscaler = RobustScaler()\n",
    "X1 = robustscaler.fit_transform(X)"
   ]
  },
  {
   "cell_type": "code",
   "execution_count": 38,
   "metadata": {},
   "outputs": [],
   "source": [
    "import warnings\n",
    "warnings.filterwarnings('ignore')"
   ]
  },
  {
   "cell_type": "markdown",
   "metadata": {},
   "source": [
    "### Experiment -1 KNN Imputer"
   ]
  },
  {
   "cell_type": "code",
   "execution_count": 39,
   "metadata": {},
   "outputs": [
    {
     "name": "stdout",
     "output_type": "stream",
     "text": [
      "1--->[0.67933261 0.71177143]\n",
      "3--->[0.69498886 0.70982857]\n",
      "5--->[0.7032741  0.66937143]\n",
      "7--->[0.71333067 0.68491429]\n",
      "9--->[0.64264899 0.70737143]\n"
     ]
    }
   ],
   "source": [
    "results = []\n",
    "imputer = KNNImputer(n_neighbors=5,weights='uniform',metric='nan_euclidean')\n",
    "strategies =[str(i) for i in [1,3,5,7,9]]\n",
    "for s in strategies:\n",
    "    pipeline = Pipeline(steps=[('i',KNNImputer(n_neighbors=int(s))),('m',LogisticRegression())])\n",
    "    scores = cross_val_score(pipeline,X1,y,scoring='accuracy',cv=2)\n",
    "    results.append(scores)\n",
    "    print(f\"{s}--->{scores}\")"
   ]
  },
  {
   "cell_type": "code",
   "execution_count": 40,
   "metadata": {},
   "outputs": [
    {
     "name": "stdout",
     "output_type": "stream",
     "text": [
      "1--->   Accuracy - 69.56%\n",
      "3--->   Accuracy - 70.24%\n",
      "5--->   Accuracy - 68.63%\n",
      "7--->   Accuracy - 69.91%\n",
      "9--->   Accuracy - 67.5%\n"
     ]
    }
   ],
   "source": [
    "from statistics import mean\n",
    "\n",
    "for m, i in zip([1,3,5,7,9], results):\n",
    "    print(f\"{m}--->   Accuracy - {round(mean(i)*100,2)}%\")"
   ]
  },
  {
   "cell_type": "markdown",
   "metadata": {},
   "source": [
    "### **We can observe n_neighbors=3 able to produce highest accuracy**"
   ]
  },
  {
   "cell_type": "markdown",
   "metadata": {},
   "source": [
    "### Feature Engineering Basic Steps\n",
    "- 1st step ---- Filling the null values using Imputers(KNNImputer,Mean IMputer,Median Imputer,MICE)\n",
    "- 2nd step ---- Scaling the data and removing outliers(robust scaler)\n",
    "- 3rd step ---- Balancing the target column (SMOTEK)"
   ]
  },
  {
   "cell_type": "markdown",
   "metadata": {},
   "source": [
    "## Pipeline for KNN imputer"
   ]
  },
  {
   "cell_type": "code",
   "execution_count": 41,
   "metadata": {},
   "outputs": [],
   "source": [
    "knn_pipeline = Pipeline(\n",
    "steps=[\n",
    "    ('filling_null_values',KNNImputer(n_neighbors=3)),\n",
    "    ('scaling_and_removing_outliers',RobustScaler())\n",
    "])"
   ]
  },
  {
   "cell_type": "code",
   "execution_count": 42,
   "metadata": {},
   "outputs": [],
   "source": [
    "X_knn = knn_pipeline.fit_transform(X)"
   ]
  },
  {
   "cell_type": "code",
   "execution_count": 45,
   "metadata": {},
   "outputs": [],
   "source": [
    "from imblearn.combine import SMOTETomek"
   ]
  },
  {
   "cell_type": "code",
   "execution_count": 46,
   "metadata": {},
   "outputs": [],
   "source": [
    "smt = SMOTETomek(random_state=43,sampling_strategy='minority')\n",
    "X_res,y_res =smt.fit_resample(X_knn,y)"
   ]
  },
  {
   "cell_type": "code",
   "execution_count": 48,
   "metadata": {},
   "outputs": [
    {
     "name": "stdout",
     "output_type": "stream",
     "text": [
      "RandomForestClassifier()\n",
      "Model Name -  Random Forest\n",
      "######## Model performance for training set ########\n",
      "Accuracy------------>1.0\n",
      "F1 score------------>1.0\n",
      "Precesion----------->1.0\n",
      "Recall-------------->1.0\n",
      "Roc Auc Score------->1.0\n",
      "######## Model performance for test set ########\n",
      "Accuracy------------>0.9927467861776152\n",
      "F1 score------------>0.9929411764705882\n",
      "Precesion----------->0.9893641354071363\n",
      "Recall-------------->0.9965441769381408\n",
      "Roc Auc Score------->0.9926541109409804\n",
      "\n",
      "\n",
      "DecisionTreeClassifier()\n",
      "Model Name -  Decision Tree\n",
      "######## Model performance for training set ########\n",
      "Accuracy------------>1.0\n",
      "F1 score------------>1.0\n",
      "Precesion----------->1.0\n",
      "Recall-------------->1.0\n",
      "Roc Auc Score------->1.0\n",
      "######## Model performance for test set ########\n",
      "Accuracy------------>0.9839603726854582\n",
      "F1 score------------>0.9843803835994027\n",
      "Precesion----------->0.9814496736516661\n",
      "Recall-------------->0.9873286487731828\n",
      "Roc Auc Score------->0.9838781699828218\n",
      "\n",
      "\n",
      "GradientBoostingClassifier()\n",
      "Model Name -  Gradient Boosting\n",
      "######## Model performance for training set ########\n",
      "Accuracy------------>0.9839407162794355\n",
      "F1 score------------>0.9838636408524422\n",
      "Precesion----------->0.9807449992124744\n",
      "Recall-------------->0.9870021795125817\n",
      "Roc Auc Score------->0.983964836392275\n",
      "######## Model performance for test set ########\n",
      "Accuracy------------>0.9832527420686402\n",
      "F1 score------------>0.9836950281318178\n",
      "Precesion----------->0.980542520315898\n",
      "Recall-------------->0.9868678723649349\n",
      "Roc Auc Score------->0.9831645148945611\n",
      "\n",
      "\n",
      "LogisticRegression()\n",
      "Model Name -  Logistic Regression\n",
      "######## Model performance for training set ########\n",
      "Accuracy------------>0.5837166332507764\n",
      "F1 score------------>0.6886687051628836\n",
      "Precesion----------->0.5474070438664143\n",
      "Recall-------------->0.9281949673073113\n",
      "Roc Auc Score------->0.586430647973637\n",
      "######## Model performance for test set ########\n",
      "Accuracy------------>0.5922278570586154\n",
      "F1 score------------>0.6990468729599165\n",
      "Precesion----------->0.5617655288192501\n",
      "Recall-------------->0.9251238336597166\n",
      "Roc Auc Score------->0.5841035381902545\n",
      "\n",
      "\n",
      "KNeighborsClassifier()\n",
      "Model Name -  K-Neighbors Classifier\n",
      "######## Model performance for training set ########\n",
      "Accuracy------------>0.9800880606989818\n",
      "F1 score------------>0.9801656452528733\n",
      "Precesion----------->0.9687282297391439\n",
      "Recall-------------->0.9918763621953636\n",
      "Roc Auc Score------->0.9801809362753408\n",
      "######## Model performance for test set ########\n",
      "Accuracy------------>0.9739356056138696\n",
      "F1 score------------>0.9748205537199498\n",
      "Precesion----------->0.9642736391299448\n",
      "Recall-------------->0.9856007372422532\n",
      "Roc Auc Score------->0.9736509183372073\n",
      "\n",
      "\n",
      "AdaBoostClassifier()\n",
      "Model Name -  AdaBoost Classifier\n",
      "######## Model performance for training set ########\n",
      "Accuracy------------>0.9751936155993238\n",
      "F1 score------------>0.9750069315166159\n",
      "Precesion----------->0.9745437269884002\n",
      "Recall-------------->0.9754705765801466\n",
      "Roc Auc Score------->0.9751957976703144\n",
      "######## Model performance for test set ########\n",
      "Accuracy------------>0.9757046821559147\n",
      "F1 score------------>0.9762124711316398\n",
      "Precesion----------->0.9785854844310684\n",
      "Recall-------------->0.9738509388319319\n",
      "Roc Auc Score------->0.9757499227203033\n",
      "\n",
      "\n"
     ]
    }
   ],
   "source": [
    "knn_report = evaluate(X_res,y_res,models)"
   ]
  },
  {
   "cell_type": "code",
   "execution_count": 51,
   "metadata": {},
   "outputs": [
    {
     "data": {
      "text/html": [
       "<div>\n",
       "<style scoped>\n",
       "    .dataframe tbody tr th:only-of-type {\n",
       "        vertical-align: middle;\n",
       "    }\n",
       "\n",
       "    .dataframe tbody tr th {\n",
       "        vertical-align: top;\n",
       "    }\n",
       "\n",
       "    .dataframe thead th {\n",
       "        text-align: right;\n",
       "    }\n",
       "</style>\n",
       "<table border=\"1\" class=\"dataframe\">\n",
       "  <thead>\n",
       "    <tr style=\"text-align: right;\">\n",
       "      <th></th>\n",
       "      <th>ModelName</th>\n",
       "      <th>Cost</th>\n",
       "    </tr>\n",
       "  </thead>\n",
       "  <tbody>\n",
       "    <tr>\n",
       "      <th>0</th>\n",
       "      <td>Random Forest</td>\n",
       "      <td>15930</td>\n",
       "    </tr>\n",
       "    <tr>\n",
       "      <th>1</th>\n",
       "      <td>Decision Tree</td>\n",
       "      <td>56620</td>\n",
       "    </tr>\n",
       "    <tr>\n",
       "      <th>2</th>\n",
       "      <td>Gradient Boosting</td>\n",
       "      <td>58700</td>\n",
       "    </tr>\n",
       "    <tr>\n",
       "      <th>4</th>\n",
       "      <td>K-Neighbors Classifier</td>\n",
       "      <td>65670</td>\n",
       "    </tr>\n",
       "    <tr>\n",
       "      <th>5</th>\n",
       "      <td>AdaBoost Classifier</td>\n",
       "      <td>115350</td>\n",
       "    </tr>\n",
       "    <tr>\n",
       "      <th>3</th>\n",
       "      <td>Logistic Regression</td>\n",
       "      <td>387650</td>\n",
       "    </tr>\n",
       "  </tbody>\n",
       "</table>\n",
       "</div>"
      ],
      "text/plain": [
       "                ModelName    Cost\n",
       "0           Random Forest   15930\n",
       "1           Decision Tree   56620\n",
       "2       Gradient Boosting   58700\n",
       "4  K-Neighbors Classifier   65670\n",
       "5     AdaBoost Classifier  115350\n",
       "3     Logistic Regression  387650"
      ]
     },
     "execution_count": 51,
     "metadata": {},
     "output_type": "execute_result"
    }
   ],
   "source": [
    "knn_report"
   ]
  },
  {
   "cell_type": "markdown",
   "metadata": {},
   "source": [
    "### Experiment - 2 Simple Imputer with strategy mean"
   ]
  },
  {
   "cell_type": "code",
   "execution_count": 54,
   "metadata": {},
   "outputs": [],
   "source": [
    "# 1st step and 2nd step\n",
    "median_pipeline = Pipeline(\n",
    "steps = [\n",
    "    ('filling_missing_values', SimpleImputer(strategy='median')),\n",
    "    ('scaling_and_removing_outliers', RobustScaler())\n",
    "])"
   ]
  },
  {
   "cell_type": "code",
   "execution_count": 55,
   "metadata": {},
   "outputs": [],
   "source": [
    "X_median = median_pipeline.fit_transform(X)"
   ]
  },
  {
   "cell_type": "code",
   "execution_count": 56,
   "metadata": {},
   "outputs": [],
   "source": [
    "smt = SMOTETomek(random_state=7, sampling_strategy='minority')\n",
    "X_res, y_res = smt.fit_resample(X_median,y)"
   ]
  },
  {
   "cell_type": "code",
   "execution_count": 57,
   "metadata": {},
   "outputs": [
    {
     "name": "stdout",
     "output_type": "stream",
     "text": [
      "RandomForestClassifier()\n",
      "Model Name -  Random Forest\n",
      "######## Model performance for training set ########\n",
      "Accuracy------------>1.0\n",
      "F1 score------------>1.0\n",
      "Precesion----------->1.0\n",
      "Recall-------------->1.0\n",
      "Roc Auc Score------->1.0\n",
      "######## Model performance for test set ########\n",
      "Accuracy------------>0.992500295263966\n",
      "F1 score------------>0.9926423729795493\n",
      "Precesion----------->0.9891467497979448\n",
      "Recall-------------->0.9961627906976744\n",
      "Roc Auc Score------->0.992441846512744\n",
      "\n",
      "\n",
      "DecisionTreeClassifier()\n",
      "Model Name -  Decision Tree\n",
      "######## Model performance for training set ########\n",
      "Accuracy------------>1.0\n",
      "F1 score------------>1.0\n",
      "Precesion----------->1.0\n",
      "Recall-------------->1.0\n",
      "Roc Auc Score------->1.0\n",
      "######## Model performance for test set ########\n",
      "Accuracy------------>0.9857682768394945\n",
      "F1 score------------>0.9860184486859663\n",
      "Precesion----------->0.9839064489984949\n",
      "Recall-------------->0.988139534883721\n",
      "Roc Auc Score------->0.9857304345884887\n",
      "\n",
      "\n",
      "GradientBoostingClassifier()\n",
      "Model Name -  Gradient Boosting\n",
      "######## Model performance for training set ########\n",
      "Accuracy------------>0.984015748031496\n",
      "F1 score------------>0.9839816933638444\n",
      "Precesion----------->0.9809242871189774\n",
      "Recall-------------->0.987058218229311\n",
      "Roc Auc Score------->0.9840315960922921\n",
      "######## Model performance for test set ########\n",
      "Accuracy------------>0.9818707924884847\n",
      "F1 score------------>0.9822286541244574\n",
      "Precesion----------->0.9779827089337175\n",
      "Recall-------------->0.9865116279069768\n",
      "Roc Auc Score------->0.9817967306801503\n",
      "\n",
      "\n",
      "LogisticRegression()\n",
      "Model Name -  Logistic Regression\n",
      "######## Model performance for training set ########\n",
      "Accuracy------------>0.6217125984251969\n",
      "F1 score------------>0.7060946700313528\n",
      "Precesion----------->0.5754025624407997\n",
      "Recall-------------->0.9136027229192227\n",
      "Roc Auc Score------->0.6232330381133535\n",
      "######## Model performance for test set ########\n",
      "Accuracy------------>0.6225345458840204\n",
      "F1 score------------>0.7095865515674693\n",
      "Precesion----------->0.5823266219239374\n",
      "Recall-------------->0.9080232558139535\n",
      "Roc Auc Score------->0.6179785105563648\n",
      "\n",
      "\n",
      "KNeighborsClassifier()\n",
      "Model Name -  K-Neighbors Classifier\n",
      "######## Model performance for training set ########\n",
      "Accuracy------------>0.9780905511811023\n",
      "F1 score------------>0.9782187518346739\n",
      "Precesion----------->0.9675209043047384\n",
      "Recall-------------->0.989155815886334\n",
      "Roc Auc Score------->0.9781481895395324\n",
      "######## Model performance for test set ########\n",
      "Accuracy------------>0.9698830754694697\n",
      "F1 score------------>0.9707602339181286\n",
      "Precesion----------->0.9574756842343362\n",
      "Recall-------------->0.9844186046511628\n",
      "Roc Auc Score------->0.9696511069812089\n",
      "\n",
      "\n",
      "AdaBoostClassifier()\n",
      "Model Name -  AdaBoost Classifier\n",
      "######## Model performance for training set ########\n",
      "Accuracy------------>0.9757086614173228\n",
      "F1 score------------>0.9755875603386881\n",
      "Precesion----------->0.9753174320636051\n",
      "Recall-------------->0.9758578382870938\n",
      "Roc Auc Score------->0.9757094384714755\n",
      "######## Model performance for test set ########\n",
      "Accuracy------------>0.9730719263021141\n",
      "F1 score------------>0.9734883720930233\n",
      "Precesion----------->0.9734883720930233\n",
      "Recall-------------->0.9734883720930233\n",
      "Roc Auc Score------->0.9730652803589667\n",
      "\n",
      "\n"
     ]
    }
   ],
   "source": [
    "report_median = evaluate(X_res,y_res,models)"
   ]
  },
  {
   "cell_type": "code",
   "execution_count": 58,
   "metadata": {},
   "outputs": [
    {
     "data": {
      "text/html": [
       "<div>\n",
       "<style scoped>\n",
       "    .dataframe tbody tr th:only-of-type {\n",
       "        vertical-align: middle;\n",
       "    }\n",
       "\n",
       "    .dataframe tbody tr th {\n",
       "        vertical-align: top;\n",
       "    }\n",
       "\n",
       "    .dataframe thead th {\n",
       "        text-align: right;\n",
       "    }\n",
       "</style>\n",
       "<table border=\"1\" class=\"dataframe\">\n",
       "  <thead>\n",
       "    <tr style=\"text-align: right;\">\n",
       "      <th></th>\n",
       "      <th>ModelName</th>\n",
       "      <th>Cost</th>\n",
       "    </tr>\n",
       "  </thead>\n",
       "  <tbody>\n",
       "    <tr>\n",
       "      <th>0</th>\n",
       "      <td>Random Forest</td>\n",
       "      <td>17440</td>\n",
       "    </tr>\n",
       "    <tr>\n",
       "      <th>1</th>\n",
       "      <td>Decision Tree</td>\n",
       "      <td>52390</td>\n",
       "    </tr>\n",
       "    <tr>\n",
       "      <th>2</th>\n",
       "      <td>Gradient Boosting</td>\n",
       "      <td>59910</td>\n",
       "    </tr>\n",
       "    <tr>\n",
       "      <th>4</th>\n",
       "      <td>K-Neighbors Classifier</td>\n",
       "      <td>70760</td>\n",
       "    </tr>\n",
       "    <tr>\n",
       "      <th>5</th>\n",
       "      <td>AdaBoost Classifier</td>\n",
       "      <td>116280</td>\n",
       "    </tr>\n",
       "    <tr>\n",
       "      <th>3</th>\n",
       "      <td>Logistic Regression</td>\n",
       "      <td>451510</td>\n",
       "    </tr>\n",
       "  </tbody>\n",
       "</table>\n",
       "</div>"
      ],
      "text/plain": [
       "                ModelName    Cost\n",
       "0           Random Forest   17440\n",
       "1           Decision Tree   52390\n",
       "2       Gradient Boosting   59910\n",
       "4  K-Neighbors Classifier   70760\n",
       "5     AdaBoost Classifier  116280\n",
       "3     Logistic Regression  451510"
      ]
     },
     "execution_count": 58,
     "metadata": {},
     "output_type": "execute_result"
    }
   ],
   "source": [
    "report_median"
   ]
  },
  {
   "cell_type": "markdown",
   "metadata": {},
   "source": [
    "### Experiment - 3  Simple Imputer with strategy constant"
   ]
  },
  {
   "cell_type": "code",
   "execution_count": 59,
   "metadata": {},
   "outputs": [],
   "source": [
    "constant_pipeline = Pipeline(\n",
    "steps = [\n",
    "    ('filling_missing_values', SimpleImputer(strategy='constant',fill_value=0)),\n",
    "    ('scaling_and_removing_outliers', RobustScaler())\n",
    "])"
   ]
  },
  {
   "cell_type": "code",
   "execution_count": 60,
   "metadata": {},
   "outputs": [],
   "source": [
    "X_constant = constant_pipeline.fit_transform(X)"
   ]
  },
  {
   "cell_type": "code",
   "execution_count": 61,
   "metadata": {},
   "outputs": [],
   "source": [
    "const_smt = SMOTETomek(random_state=7,sampling_strategy='minority')\n",
    "X_res, y_res = const_smt.fit_resample(X_constant,y)"
   ]
  },
  {
   "cell_type": "code",
   "execution_count": 62,
   "metadata": {},
   "outputs": [
    {
     "name": "stdout",
     "output_type": "stream",
     "text": [
      "RandomForestClassifier()\n",
      "Model Name -  Random Forest\n",
      "######## Model performance for training set ########\n",
      "Accuracy------------>1.0\n",
      "F1 score------------>1.0\n",
      "Precesion----------->1.0\n",
      "Recall-------------->1.0\n",
      "Roc Auc Score------->1.0\n",
      "######## Model performance for test set ########\n",
      "Accuracy------------>0.9919773478055687\n",
      "F1 score------------>0.9921223354958295\n",
      "Precesion----------->0.9883439122908252\n",
      "Recall-------------->0.9959297592743342\n",
      "Roc Auc Score------->0.9919191475648579\n",
      "\n",
      "\n",
      "DecisionTreeClassifier()\n",
      "Model Name -  Decision Tree\n",
      "######## Model performance for training set ########\n",
      "Accuracy------------>1.0\n",
      "F1 score------------>1.0\n",
      "Precesion----------->1.0\n",
      "Recall-------------->1.0\n",
      "Roc Auc Score------->1.0\n",
      "######## Model performance for test set ########\n",
      "Accuracy------------>0.9852524775837659\n",
      "F1 score------------>0.9855139645381851\n",
      "Precesion----------->0.9820995496015706\n",
      "Recall-------------->0.9889522037446214\n",
      "Roc Auc Score------->0.9851979981969845\n",
      "\n",
      "\n",
      "GradientBoostingClassifier()\n",
      "Model Name -  Gradient Boosting\n",
      "######## Model performance for training set ########\n",
      "Accuracy------------>0.9829125373603901\n",
      "F1 score------------>0.982887300368248\n",
      "Precesion----------->0.9795886324383734\n",
      "Recall-------------->0.9862082592373049\n",
      "Roc Auc Score------->0.9829284026412348\n",
      "######## Model performance for test set ########\n",
      "Accuracy------------>0.9810051911278905\n",
      "F1 score------------>0.9813181712694361\n",
      "Precesion----------->0.9791594303577631\n",
      "Recall-------------->0.9834864519130131\n",
      "Roc Auc Score------->0.9809686539464503\n",
      "\n",
      "\n",
      "LogisticRegression()\n",
      "Model Name -  Logistic Regression\n",
      "######## Model performance for training set ########\n",
      "Accuracy------------>0.6565793613339626\n",
      "F1 score------------>0.7403012594608258\n",
      "Precesion----------->0.5934534878176704\n",
      "Recall-------------->0.9837186326812882\n",
      "Roc Auc Score------->0.6581541775985205\n",
      "######## Model performance for test set ########\n",
      "Accuracy------------>0.6647593204341671\n",
      "F1 score------------>0.7484173712869095\n",
      "Precesion----------->0.6042172980700501\n",
      "Recall-------------->0.9830212815443656\n",
      "Roc Auc Score------->0.6600728339961742\n",
      "\n",
      "\n",
      "KNeighborsClassifier()\n",
      "Model Name -  K-Neighbors Classifier\n",
      "######## Model performance for training set ########\n",
      "Accuracy------------>0.9797860626081485\n",
      "F1 score------------>0.9799336326371267\n",
      "Precesion----------->0.9682160077145613\n",
      "Recall-------------->0.9919383521043272\n",
      "Roc Auc Score------->0.9798445625341017\n",
      "######## Model performance for test set ########\n",
      "Accuracy------------>0.973100519112789\n",
      "F1 score------------>0.9738382099827884\n",
      "Precesion----------->0.9610463141207112\n",
      "Recall-------------->0.9869752296778695\n",
      "Roc Auc Score------->0.9728962105530494\n",
      "\n",
      "\n",
      "AdaBoostClassifier()\n",
      "Model Name -  AdaBoost Classifier\n",
      "######## Model performance for training set ########\n",
      "Accuracy------------>0.9744376278118609\n",
      "F1 score------------>0.9743781780913713\n",
      "Precesion----------->0.9719262375653678\n",
      "Recall-------------->0.9768425212408615\n",
      "Roc Auc Score------->0.9744492047322073\n",
      "######## Model performance for test set ########\n",
      "Accuracy------------>0.9754601226993865\n",
      "F1 score------------>0.9758111408303292\n",
      "Precesion----------->0.9758111408303292\n",
      "Recall-------------->0.9758111408303292\n",
      "Roc Auc Score------->0.9754549538702108\n",
      "\n",
      "\n"
     ]
    }
   ],
   "source": [
    "report_constant = evaluate(X_res, y_res, models)"
   ]
  },
  {
   "cell_type": "code",
   "execution_count": 63,
   "metadata": {},
   "outputs": [
    {
     "data": {
      "text/html": [
       "<div>\n",
       "<style scoped>\n",
       "    .dataframe tbody tr th:only-of-type {\n",
       "        vertical-align: middle;\n",
       "    }\n",
       "\n",
       "    .dataframe tbody tr th {\n",
       "        vertical-align: top;\n",
       "    }\n",
       "\n",
       "    .dataframe thead th {\n",
       "        text-align: right;\n",
       "    }\n",
       "</style>\n",
       "<table border=\"1\" class=\"dataframe\">\n",
       "  <thead>\n",
       "    <tr style=\"text-align: right;\">\n",
       "      <th></th>\n",
       "      <th>ModelName</th>\n",
       "      <th>Cost</th>\n",
       "    </tr>\n",
       "  </thead>\n",
       "  <tbody>\n",
       "    <tr>\n",
       "      <th>0</th>\n",
       "      <td>Random Forest</td>\n",
       "      <td>18510</td>\n",
       "    </tr>\n",
       "    <tr>\n",
       "      <th>1</th>\n",
       "      <td>Decision Tree</td>\n",
       "      <td>49050</td>\n",
       "    </tr>\n",
       "    <tr>\n",
       "      <th>4</th>\n",
       "      <td>K-Neighbors Classifier</td>\n",
       "      <td>59440</td>\n",
       "    </tr>\n",
       "    <tr>\n",
       "      <th>2</th>\n",
       "      <td>Gradient Boosting</td>\n",
       "      <td>72800</td>\n",
       "    </tr>\n",
       "    <tr>\n",
       "      <th>5</th>\n",
       "      <td>AdaBoost Classifier</td>\n",
       "      <td>106080</td>\n",
       "    </tr>\n",
       "    <tr>\n",
       "      <th>3</th>\n",
       "      <td>Logistic Regression</td>\n",
       "      <td>128370</td>\n",
       "    </tr>\n",
       "  </tbody>\n",
       "</table>\n",
       "</div>"
      ],
      "text/plain": [
       "                ModelName    Cost\n",
       "0           Random Forest   18510\n",
       "1           Decision Tree   49050\n",
       "4  K-Neighbors Classifier   59440\n",
       "2       Gradient Boosting   72800\n",
       "5     AdaBoost Classifier  106080\n",
       "3     Logistic Regression  128370"
      ]
     },
     "execution_count": 63,
     "metadata": {},
     "output_type": "execute_result"
    }
   ],
   "source": [
    "report_constant"
   ]
  },
  {
   "cell_type": "markdown",
   "metadata": {},
   "source": [
    "### Experiment - 4   Simple Imputer with strategy mean"
   ]
  },
  {
   "cell_type": "code",
   "execution_count": 64,
   "metadata": {},
   "outputs": [],
   "source": [
    "mean_pipeline = Pipeline(\n",
    "steps = [\n",
    "    (\"filling_missing_values\", SimpleImputer(strategy='mean')),\n",
    "    (\"scaling_and_removing_outliers\", RobustScaler())\n",
    "])"
   ]
  },
  {
   "cell_type": "code",
   "execution_count": 65,
   "metadata": {},
   "outputs": [],
   "source": [
    "X_mean = mean_pipeline.fit_transform(X)"
   ]
  },
  {
   "cell_type": "code",
   "execution_count": 66,
   "metadata": {},
   "outputs": [],
   "source": [
    "mean_smt = SMOTETomek(random_state=7, sampling_strategy='minority')\n",
    "X_res, y_res = mean_smt.fit_resample(X_mean,y)"
   ]
  },
  {
   "cell_type": "code",
   "execution_count": 67,
   "metadata": {},
   "outputs": [
    {
     "name": "stdout",
     "output_type": "stream",
     "text": [
      "RandomForestClassifier()\n",
      "Model Name -  Random Forest\n",
      "######## Model performance for training set ########\n",
      "Accuracy------------>1.0\n",
      "F1 score------------>1.0\n",
      "Precesion----------->1.0\n",
      "Recall-------------->1.0\n",
      "Roc Auc Score------->1.0\n",
      "######## Model performance for test set ########\n",
      "Accuracy------------>0.9928078759653364\n",
      "F1 score------------>0.9929471615215631\n",
      "Precesion----------->0.9888313183649972\n",
      "Recall-------------->0.9970974108905143\n",
      "Roc Auc Score------->0.9927403222117241\n",
      "\n",
      "\n",
      "DecisionTreeClassifier()\n",
      "Model Name -  Decision Tree\n",
      "######## Model performance for training set ########\n",
      "Accuracy------------>1.0\n",
      "F1 score------------>1.0\n",
      "Precesion----------->1.0\n",
      "Recall-------------->1.0\n",
      "Roc Auc Score------->1.0\n",
      "######## Model performance for test set ########\n",
      "Accuracy------------>0.9843188115309792\n",
      "F1 score------------>0.9846207215541165\n",
      "Precesion----------->0.9806518484394794\n",
      "Recall-------------->0.9886218506908162\n",
      "Roc Auc Score------->0.9842510451058871\n",
      "\n",
      "\n",
      "GradientBoostingClassifier()\n",
      "Model Name -  Gradient Boosting\n",
      "######## Model performance for training set ########\n",
      "Accuracy------------>0.9864012419674966\n",
      "F1 score------------>0.986382241813602\n",
      "Precesion----------->0.9826693851944793\n",
      "Recall-------------->0.9901232616940582\n",
      "Roc Auc Score------->0.9864203796251325\n",
      "######## Model performance for test set ########\n",
      "Accuracy------------>0.9839061486765313\n",
      "F1 score------------>0.9842406049760434\n",
      "Precesion----------->0.978760045924225\n",
      "Recall-------------->0.9897828863346104\n",
      "Roc Auc Score------->0.983813598855928\n",
      "\n",
      "\n",
      "LogisticRegression()\n",
      "Model Name -  Logistic Regression\n",
      "######## Model performance for training set ########\n",
      "Accuracy------------>0.6475131172991138\n",
      "F1 score------------>0.7210550052097102\n",
      "Precesion----------->0.5945731066143469\n",
      "Recall-------------->0.9158896965865992\n",
      "Roc Auc Score------->0.6488930398866525\n",
      "######## Model performance for test set ########\n",
      "Accuracy------------>0.6528915875729528\n",
      "F1 score------------>0.7289633584975143\n",
      "Precesion----------->0.6039203722065442\n",
      "Recall-------------->0.9193080227562986\n",
      "Roc Auc Score------->0.648695927545814\n",
      "\n",
      "\n",
      "KNeighborsClassifier()\n",
      "Model Name -  K-Neighbors Classifier\n",
      "######## Model performance for training set ########\n",
      "Accuracy------------>0.9810364140153673\n",
      "F1 score------------>0.9811652190885136\n",
      "Precesion----------->0.9696022836863017\n",
      "Recall-------------->0.9930072692793932\n",
      "Roc Auc Score------->0.9810979650404786\n",
      "######## Model performance for test set ########\n",
      "Accuracy------------>0.9735306254789837\n",
      "F1 score------------>0.9742855506557471\n",
      "Precesion----------->0.9613471971066908\n",
      "Recall-------------->0.9875769186114014\n",
      "Roc Auc Score------->0.973309417389533\n",
      "\n",
      "\n",
      "AdaBoostClassifier()\n",
      "Model Name -  AdaBoost Classifier\n",
      "######## Model performance for training set ########\n",
      "Accuracy------------>0.9754554208343977\n",
      "F1 score------------>0.9752932565822009\n",
      "Precesion----------->0.9766649498831267\n",
      "Recall-------------->0.9739254108723135\n",
      "Roc Auc Score------->0.9754475539210051\n",
      "######## Model performance for test set ########\n",
      "Accuracy------------>0.9737664328243825\n",
      "F1 score------------>0.9741714551047652\n",
      "Precesion----------->0.9740018570102136\n",
      "Recall-------------->0.9743411122721467\n",
      "Roc Auc Score------->0.9737573824833787\n",
      "\n",
      "\n"
     ]
    }
   ],
   "source": [
    "mean_report = evaluate(X_res, y_res, models)"
   ]
  },
  {
   "cell_type": "code",
   "execution_count": 68,
   "metadata": {},
   "outputs": [
    {
     "data": {
      "text/html": [
       "<div>\n",
       "<style scoped>\n",
       "    .dataframe tbody tr th:only-of-type {\n",
       "        vertical-align: middle;\n",
       "    }\n",
       "\n",
       "    .dataframe tbody tr th {\n",
       "        vertical-align: top;\n",
       "    }\n",
       "\n",
       "    .dataframe thead th {\n",
       "        text-align: right;\n",
       "    }\n",
       "</style>\n",
       "<table border=\"1\" class=\"dataframe\">\n",
       "  <thead>\n",
       "    <tr style=\"text-align: right;\">\n",
       "      <th></th>\n",
       "      <th>ModelName</th>\n",
       "      <th>Cost</th>\n",
       "    </tr>\n",
       "  </thead>\n",
       "  <tbody>\n",
       "    <tr>\n",
       "      <th>0</th>\n",
       "      <td>Random Forest</td>\n",
       "      <td>13470</td>\n",
       "    </tr>\n",
       "    <tr>\n",
       "      <th>2</th>\n",
       "      <td>Gradient Boosting</td>\n",
       "      <td>45850</td>\n",
       "    </tr>\n",
       "    <tr>\n",
       "      <th>1</th>\n",
       "      <td>Decision Tree</td>\n",
       "      <td>50680</td>\n",
       "    </tr>\n",
       "    <tr>\n",
       "      <th>4</th>\n",
       "      <td>K-Neighbors Classifier</td>\n",
       "      <td>56920</td>\n",
       "    </tr>\n",
       "    <tr>\n",
       "      <th>5</th>\n",
       "      <td>AdaBoost Classifier</td>\n",
       "      <td>112740</td>\n",
       "    </tr>\n",
       "    <tr>\n",
       "      <th>3</th>\n",
       "      <td>Logistic Regression</td>\n",
       "      <td>399430</td>\n",
       "    </tr>\n",
       "  </tbody>\n",
       "</table>\n",
       "</div>"
      ],
      "text/plain": [
       "                ModelName    Cost\n",
       "0           Random Forest   13470\n",
       "2       Gradient Boosting   45850\n",
       "1           Decision Tree   50680\n",
       "4  K-Neighbors Classifier   56920\n",
       "5     AdaBoost Classifier  112740\n",
       "3     Logistic Regression  399430"
      ]
     },
     "execution_count": 68,
     "metadata": {},
     "output_type": "execute_result"
    }
   ],
   "source": [
    "mean_report"
   ]
  },
  {
   "cell_type": "markdown",
   "metadata": {},
   "source": [
    "### Best models choosen with least cost with all the experiments"
   ]
  },
  {
   "cell_type": "code",
   "execution_count": null,
   "metadata": {},
   "outputs": [],
   "source": [
    "#### Experiment -1 KNN Imputer with list cost\n",
    "Random Forest\t15930\n",
    "\n",
    "#### Experiment - 2 Simple Imputer with strategy mean with list cost\n",
    "Random Forest\t17440\n",
    "\n",
    "#### Experiment - 3  Simple Imputer with strategy constant with list cost\n",
    "Random Forest\t18510\n",
    "\n",
    "#### Experiment - 4   Simple Imputer with strategy mean with list cost\n",
    "Random Forest\t13470"
   ]
  },
  {
   "cell_type": "markdown",
   "metadata": {},
   "source": [
    "#### From the above result summary, we got Random Forest which is giving least cost, so we can conclude that the Random Forest \n",
    "#### model is the best model so far."
   ]
  }
 ],
 "metadata": {
  "kernelspec": {
   "display_name": "Python 3 (ipykernel)",
   "language": "python",
   "name": "python3"
  },
  "language_info": {
   "codemirror_mode": {
    "name": "ipython",
    "version": 3
   },
   "file_extension": ".py",
   "mimetype": "text/x-python",
   "name": "python",
   "nbconvert_exporter": "python",
   "pygments_lexer": "ipython3",
   "version": "3.9.12"
  }
 },
 "nbformat": 4,
 "nbformat_minor": 2
}
